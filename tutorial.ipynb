{
 "cells": [
  {
   "cell_type": "markdown",
   "metadata": {},
   "source": [
    "### Welcome to the [Data-driven Methods for Network-level Coordination of Autonomous Mobility-on-Demand Systems Across Scales](https://rl4amod-itsc24.github.io/) coding tutorial, presented at 27th IEEE ITSC 2024"
   ]
  },
  {
   "cell_type": "markdown",
   "metadata": {},
   "source": [
    "<img src=\"figures/gnn-for-amod.png\" width=\"700\"/></td> <br/>"
   ]
  },
  {
   "cell_type": "markdown",
   "metadata": {},
   "source": [
    "Join us in moving the first steps toward the creation of publicly available benchmarks, datasets, and simulators for network-level coordination of MoD systems.\n",
    "\n",
    "This notebook offers an interactive, hands-on session for benchmarking AMoD controllers across \n",
    "- openly accessible simulation platforms across different fidelity levels \n",
    "- calibareted scenarios calibrat \n",
    "- Implementation of fleet coordination algorithms"
   ]
  },
  {
   "cell_type": "markdown",
   "metadata": {},
   "source": [
    "### Installation of required packages"
   ]
  },
  {
   "cell_type": "code",
   "execution_count": null,
   "metadata": {},
   "outputs": [],
   "source": [
    "!pip install hydra-core"
   ]
  },
  {
   "cell_type": "code",
   "execution_count": null,
   "metadata": {},
   "outputs": [],
   "source": [
    "!pip install PuLP"
   ]
  },
  {
   "cell_type": "code",
   "execution_count": null,
   "metadata": {},
   "outputs": [],
   "source": [
    "!pip install torch_geometric"
   ]
  },
  {
   "cell_type": "code",
   "execution_count": null,
   "metadata": {},
   "outputs": [],
   "source": [
    "!pip install traci"
   ]
  },
  {
   "cell_type": "markdown",
   "metadata": {},
   "source": [
    "### Clone the repository"
   ]
  },
  {
   "cell_type": "code",
   "execution_count": null,
   "metadata": {},
   "outputs": [],
   "source": [
    "!git clone https://github.com/StanfordASL/RL4AMOD"
   ]
  },
  {
   "cell_type": "code",
   "execution_count": null,
   "metadata": {},
   "outputs": [],
   "source": [
    "cd RL4AMOD"
   ]
  },
  {
   "cell_type": "markdown",
   "metadata": {},
   "source": [
    "### 1. The macro environment "
   ]
  },
  {
   "cell_type": "markdown",
   "metadata": {},
   "source": [
    "The macro envorinment is based on taxi record data colleted in various city, e.g. New York City, San Francisco, Washignton DC, Shenzhen. In each scenarion, the road network is segmented into stations by clustering junctions such that the travel time within each station is upper-bounded by a given error tolerance. "
   ]
  },
  {
   "cell_type": "markdown",
   "metadata": {},
   "source": [
    "In this notebook, we are looking at the nyc brooklyn scenario. It exists of 14 clustered regions with the following demand distribution: \n",
    "\n",
    "<img src=\"figures/demand_profit.png\" alt=\"drawing\" style=\"background-color: white; border: 1px solid black;\" width=\"800\"/>\n"
   ]
  },
  {
   "cell_type": "markdown",
   "metadata": {},
   "source": [
    "## 2. Baselines"
   ]
  },
  {
   "cell_type": "markdown",
   "metadata": {},
   "source": [
    "This repository provides a set of baseline policies, that aim to outperform the no-control policy, which serves as the lower bound. \n",
    "The simplest of these is the random rebalancing policy. We evaluate its performance against the no-control policy by assessing total profit, calculated as the profit from passengers served minus the cost of rebalancing."
   ]
  },
  {
   "cell_type": "code",
   "execution_count": null,
   "metadata": {},
   "outputs": [],
   "source": [
    "import importlib\n",
    "import testing\n",
    "import warnings\n",
    "warnings.filterwarnings(\"ignore\")\n",
    "importlib.reload(testing)"
   ]
  },
  {
   "cell_type": "code",
   "execution_count": null,
   "metadata": {},
   "outputs": [],
   "source": [
    "importlib.reload(testing)\n",
    "config = {\n",
    "    \"simulator.name\": \"macro\",\n",
    "    \"model.name\": \"random\",\n",
    "    \"simulator.city\": \"nyc_brooklyn\",\n",
    "    \"model.cplexpath\": None, \n",
    "    \"model.test_episodes\": 10,\n",
    "}\n",
    "!pwd\n",
    "testing.test(config)"
   ]
  },
  {
   "cell_type": "markdown",
   "metadata": {},
   "source": [
    "It’s no surprise that the random rebalancing policy fails to outperform the no-control policy. As shown in the figure on the right, it tends to relocate many vehicles to low-demand regions, resulting in inefficient rebalancing."
   ]
  },
  {
   "cell_type": "markdown",
   "metadata": {},
   "source": [
    "### Implement your own controller"
   ]
  },
  {
   "cell_type": "markdown",
   "metadata": {},
   "source": [
    "The random rebalancing policy is not able to outperform the no control baseline, so let's implement a policy that does. We can develop a control policy that aims to achieve an equal distribution of vehicles across the network while minimizing rebalancing costs."
   ]
  },
  {
   "cell_type": "code",
   "execution_count": null,
   "metadata": {},
   "outputs": [],
   "source": [
    "from src.misc.utils import dictsum\n",
    "from src.algos.reb_flow_solver import solveRebFlow\n",
    "from src.algos.base import BaseAlgorithm\n",
    "\n",
    "\n",
    "class EqualDistribution(BaseAlgorithm):\n",
    "    def __init__(self, **kwargs):\n",
    "        \"\"\"\n",
    "        :param cplexpath: Path to the CPLEX solver.\n",
    "        \"\"\"\n",
    "        self.cplexpath = kwargs.get('cplexpath') #None, for no CPLEX\n",
    "\n",
    "    def select_action(self, env):\n",
    "        \"\"\"\n",
    "        Implements the Equal Distribution (ED) baseline for rebalancing.\n",
    "        :param env: The current state of the environment\n",
    "        :return: The rebalancing action to be taken\n",
    "        \"\"\"\n",
    "        # number of regions in this scenario\n",
    "        nregions = env.nregion\n",
    "        \n",
    "        #determines the desired vehicle distirbutions\n",
    "        action = [1 / nregions for _ in range(nregions)]\n",
    "        \n",
    "        #calculates the desired number of vehicles in each region\n",
    "        desired_acc = {\n",
    "            env.region[i]: int(action[i] * dictsum(env.acc, env.time +1))\n",
    "            for i in range(len(env.region))\n",
    "        }\n",
    "        \n",
    "        #calculated the min-cost rebalancing flow to reach desried distirbution\n",
    "        reb_action = solveRebFlow(env, desired_acc, self.cplexpath) \n",
    "        \n",
    "        return reb_action"
   ]
  },
  {
   "cell_type": "markdown",
   "metadata": {},
   "source": [
    "Now we can test this new policy and compare it to the no control baseline: "
   ]
  },
  {
   "cell_type": "code",
   "execution_count": null,
   "metadata": {},
   "outputs": [],
   "source": [
    "config = {\n",
    "    \"simulator.name\": \"macro\",\n",
    "    \"model.name\": \"equal_distribution\",\n",
    "    \"simulator.city\": \"nyc_brooklyn\",\n",
    "    \"model.cplexpath\": None, \n",
    "    \"model.test_episodes\": 10,\n",
    "}\n",
    "testing.test(config)"
   ]
  },
  {
   "cell_type": "markdown",
   "metadata": {},
   "source": [
    "While the equal distribution policy significantly boosts profit compared to the no-control baseline, the rebalancing flows still don't align entirely with the demand distribution. (e.g. region 10 and 12)"
   ]
  },
  {
   "cell_type": "markdown",
   "metadata": {},
   "source": [
    "## 3. RL-based policies "
   ]
  },
  {
   "cell_type": "markdown",
   "metadata": {},
   "source": [
    "Although the equal distribution policy already significantly outperforms the no-control baseline, it remains a reactive approach. Instead of relying on a policy that enforces an equal distribution of idle vehicles, we can implement a reinforcement learning (RL) policy that proactively adjusts the distribution based on the current state. \n",
    "\n",
    "In this repository, we already provide a pre-trained agent: "
   ]
  },
  {
   "cell_type": "code",
   "execution_count": null,
   "metadata": {},
   "outputs": [],
   "source": [
    "# from testing import test\n",
    "config = {\n",
    "    \"simulator.name\": \"macro\",\n",
    "    \"model.name\": \"sac\",\n",
    "    \"simulator.city\": \"nyc_brooklyn\", \n",
    "    \"model.cplexpath\": None, \n",
    "    \"model.test_episodes\": 10,\n",
    "    \"model.checkpoint_path\": \"SAC_nyc_brooklyn\"\n",
    "}\n",
    "testing.test(config)"
   ]
  },
  {
   "cell_type": "code",
   "execution_count": null,
   "metadata": {},
   "outputs": [],
   "source": [
    "%load_ext autoreload\n",
    "%autoreload 2\n",
    "import sys\n",
    "if 'testing' in sys.modules:\n",
    "    del sys.modules['testing']\n",
    "\n",
    "import testing\n",
    "importlib.reload(testing)\n",
    "config = {\n",
    "    \"simulator.name\": \"multi_macro\",\n",
    "    \"model.name\": [\"sac\", \"equal_distribution\", \"random\"],\n",
    "    \"simulator.city\": \"nyc_brooklyn\", \n",
    "    \"model.cplexpath\": None, \n",
    "    \"model.test_episodes\": 10,\n",
    "    \"model.checkpoint_path\": \"SAC_nyc_brooklyn\",\n",
    "    \"simulator.reuse_no_control\": False,\n",
    "    \"simulator.firm_count\": 4,\n",
    "    \"simulator.agents_know_partial_demand\": True,\n",
    "    \"simulator.constant_vehicle_count\": True\n",
    "}\n",
    "testing.multi_test(config)"
   ]
  },
  {
   "cell_type": "code",
   "execution_count": null,
   "metadata": {},
   "outputs": [],
   "source": [
    "# With not changing x\n",
    "importlib.reload(testing)\n",
    "config = {\n",
    "    \"simulator.name\": \"multi_macro\",\n",
    "    \"model.name\": \"equal_distribution\",\n",
    "    \"simulator.city\": \"nyc_brooklyn\",\n",
    "    \"model.cplexpath\": None, \n",
    "    \"model.test_episodes\": 10,\n",
    "}\n",
    "testing.test(config)"
   ]
  },
  {
   "cell_type": "code",
   "execution_count": null,
   "metadata": {},
   "outputs": [],
   "source": [
    "importlib.reload(testing)\n",
    "config = {\n",
    "    \"simulator.name\": \"multi_macro\",\n",
    "    \"model.name\": \"random\",\n",
    "    \"simulator.city\": \"nyc_brooklyn\",\n",
    "    \"model.cplexpath\": None, \n",
    "    \"model.test_episodes\": 10,\n",
    "}\n",
    "testing.test(config)"
   ]
  },
  {
   "cell_type": "markdown",
   "metadata": {},
   "source": [
    "### Final comparison"
   ]
  },
  {
   "cell_type": "markdown",
   "metadata": {},
   "source": [
    "<img src=\"figures/comparison_final.png\" alt=\"drawing\" style=\"background-color: white; border: 1px solid black;\" width=\"650\"/>"
   ]
  },
  {
   "cell_type": "markdown",
   "metadata": {},
   "source": [
    "## 4. Implement an RL agent"
   ]
  },
  {
   "cell_type": "markdown",
   "metadata": {},
   "source": [
    "Generally policy takes the current state as input and outputs the next action $\\pi(a_t | s_t)$:\n",
    "\n",
    "<img src=\"figures/NN_Actor.png\" alt=\"drawing\" style=\"background-color: white; border: 1px solid black;\" width=\"200\"/>"
   ]
  },
  {
   "cell_type": "code",
   "execution_count": null,
   "metadata": {},
   "outputs": [],
   "source": [
    "from torch import nn\n",
    "import torch.nn.functional as F\n",
    "from torch.distributions import Dirichlet\n",
    "\n",
    "class Actor(nn.Module):\n",
    "    \"\"\"\n",
    "    Actor \\pi(a_t | s_t) parametrizing the concentration parameters of a Dirichlet Policy.\n",
    "    \"\"\"\n",
    "\n",
    "    def __init__(self, in_channels, act_dim, hidden_size=32):\n",
    "        super().__init__()\n",
    "        \"\"\"\n",
    "        in_channels: state dimension\n",
    "        act_dim: action dimension\n",
    "        \"\"\"\n",
    "        self.lin1 = nn.Linear(in_channels, hidden_size)\n",
    "        self.lin2 = nn.Linear(hidden_size, hidden_size)\n",
    "        self.lin3 = nn.Linear(hidden_size, act_dim)\n",
    "    \n",
    "    def forward(self, state):\n",
    "        x = F.relu(self.lin1(state))\n",
    "        x = F.relu(self.lin2(x))\n",
    "        x = F.softplus(self.lin3(x))\n",
    "    \n",
    "        concentration = x.squeeze(-1)\n",
    "        m = Dirichlet(concentration + 1e-20)\n",
    "        action = m.sample()\n",
    "\n",
    "        return action"
   ]
  },
  {
   "cell_type": "code",
   "execution_count": null,
   "metadata": {},
   "outputs": [],
   "source": [
    "import torch\n",
    "import matplotlib.pyplot as plt\n",
    "'''\n",
    "The state consits of 14 regions/nodes with 13 node features each\n",
    "'''\n",
    "state = torch.ones(14, 13) \n",
    "\n",
    "state = state.flatten() #MLP expects a vector input\n",
    "\n",
    "actor = Actor(in_channels=14*13, act_dim=14)\n",
    "\n",
    "action = actor(state)"
   ]
  },
  {
   "cell_type": "code",
   "execution_count": null,
   "metadata": {},
   "outputs": [],
   "source": [
    "plt.bar(range(14), action.detach().numpy())\n",
    "plt.show()"
   ]
  },
  {
   "cell_type": "code",
   "execution_count": null,
   "metadata": {},
   "outputs": [],
   "source": [
    "from torch import nn\n",
    "import torch.nn.functional as F\n",
    "from torch.distributions import Dirichlet\n",
    "from torch_geometric.nn import GCNConv\n",
    "\n",
    "\n",
    "class GNNActor(nn.Module):\n",
    "    \"\"\"\n",
    "    Actor \\pi(a_t | s_t) parametrizing the concentration parameters of a Dirichlet Policy.\n",
    "    \"\"\"\n",
    "\n",
    "    def __init__(self, in_channels, hidden_size=32, act_dim=6):\n",
    "        super().__init__()\n",
    "        self.in_channels = in_channels\n",
    "        self.act_dim = act_dim\n",
    "        self.conv1 = GCNConv(in_channels, in_channels)\n",
    "        self.lin1 = nn.Linear(in_channels, hidden_size)\n",
    "        self.lin2 = nn.Linear(hidden_size, hidden_size)\n",
    "        self.lin3 = nn.Linear(hidden_size, 1)\n",
    "\n",
    "    def forward(self, state, edge_index):\n",
    "        out = F.relu(self.conv1(state, edge_index))\n",
    "        x = out + state\n",
    "        \n",
    "        x = F.relu(self.lin1(x))\n",
    "        x = F.relu(self.lin2(x))\n",
    "        x = F.softplus(self.lin3(x))\n",
    "        \n",
    "        concentration = x.squeeze(-1)\n",
    "        m = Dirichlet(concentration + 1e-20)\n",
    "        action = m.sample()\n",
    "           \n",
    "        return action\n",
    "    "
   ]
  },
  {
   "cell_type": "code",
   "execution_count": null,
   "metadata": {},
   "outputs": [],
   "source": [
    "state = torch.ones(14, 13) \n",
    "edge_index = torch.tensor([[0, 1, 1, 2, 2, 3, 3, 4, 4, 5, 5, 6, 6, 7, 7, 8, 8, 9, 9, 10, 10, 11, 11, 12, 12, 13],\n",
    "                           [1, 0, 2, 1, 3, 2, 4, 3, 5, 4, 6, 5, 7, 6, 8, 7, 9, 8, 10, 9, 11, 10, 12, 11, 13, 12]])\n",
    "\n",
    "actor = GNNActor(in_channels=13)\n",
    "\n",
    "action = actor(state, edge_index)\n",
    "\n",
    "plt.bar(range(14), action.detach().numpy())\n",
    "plt.show()"
   ]
  },
  {
   "cell_type": "markdown",
   "metadata": {},
   "source": [
    "## Train an RL agent"
   ]
  },
  {
   "cell_type": "markdown",
   "metadata": {},
   "source": [
    "### Portion based / Constant Vehicle Count"
   ]
  },
  {
   "cell_type": "code",
   "execution_count": 1,
   "metadata": {},
   "outputs": [
    {
     "data": {
      "text/plain": [
       "<module 'testing' from '/home/gaby/Documents/UCB/AAM/GIT/sastryrepo/Dynamic-Routing-with-Competition/testing.py'>"
      ]
     },
     "execution_count": 1,
     "metadata": {},
     "output_type": "execute_result"
    }
   ],
   "source": [
    "import importlib\n",
    "import testing\n",
    "import warnings\n",
    "warnings.filterwarnings(\"ignore\")\n",
    "importlib.reload(testing)"
   ]
  },
  {
   "cell_type": "code",
   "execution_count": 2,
   "metadata": {},
   "outputs": [
    {
     "name": "stderr",
     "output_type": "stream",
     "text": [
      "Episode 50 | Reward: 14543.80 | ServedDemand: 24671.80 | Reb. Cost: 10128.00: 100%|██████████| 50/50 [00:39<00:00,  1.26it/s]\n"
     ]
    }
   ],
   "source": [
    "from train import train\n",
    "config = {\n",
    "    \"simulator.name\": \"multi_macro\",\n",
    "    \"model.name\": \"sac\",\n",
    "    \"simulator.city\": \"nyc_brooklyn\",\n",
    "    \"model.cplexpath\": None, \n",
    "    \"model.checkpoint_path\": \"SAC_portion_2\",\n",
    "    \"model.max_episodes\": 50,\n",
    "    \"simulator.reuse_no_control\": False,\n",
    "    \"simulator.firm_count\": 2,\n",
    "    \"simulator.agents_know_partial_demand\": True,\n",
    "    \"simulator.constant_vehicle_count\": True,\n",
    "    \"simulator.demand_filter_type\": \"portion\" \n",
    "}\n",
    "train(config)"
   ]
  },
  {
   "cell_type": "code",
   "execution_count": 3,
   "metadata": {},
   "outputs": [
    {
     "name": "stderr",
     "output_type": "stream",
     "text": [
      "  0%|          | 0/2 [00:00<?, ?it/s]"
     ]
    },
    {
     "name": "stdout",
     "output_type": "stream",
     "text": [
      "Testing model sac on multi_macro environment\n"
     ]
    },
    {
     "name": "stderr",
     "output_type": "stream",
     "text": [
      "Test Episode 2 | Reward: 24596.93 | ServedDemand: 29720.93 | Reb. Cost: 5124.00: 100%|██████████| 2/2 [00:00<00:00,  3.14it/s]\n",
      "  0%|          | 0/2 [00:00<?, ?it/s]"
     ]
    },
    {
     "name": "stdout",
     "output_type": "stream",
     "text": [
      "Mean Episode Profit ($):  24124.864743881237\n",
      "Mean Episode Served Demand- Proit($):  29277.86474388124\n",
      "Mean Episode Rebalancing Cost($):  5153.0\n",
      "Testing model equal_distribution on multi_macro environment\n"
     ]
    },
    {
     "name": "stderr",
     "output_type": "stream",
     "text": [
      "Test Episode 2 | Reward: 24641.51 | ServedDemand: 29785.51 | Reb. Cost: 5144.00: 100%|██████████| 2/2 [00:00<00:00,  3.89it/s]\n",
      "  0%|          | 0/2 [00:00<?, ?it/s]"
     ]
    },
    {
     "name": "stdout",
     "output_type": "stream",
     "text": [
      "Mean Episode Profit ($):  24136.931904715995\n",
      "Mean Episode Served Demand- Proit($):  29295.931904715995\n",
      "Mean Episode Rebalancing Cost($):  5159.0\n",
      "Testing model random on multi_macro environment\n"
     ]
    },
    {
     "name": "stderr",
     "output_type": "stream",
     "text": [
      "Test Episode 2 | Reward: 13240.35 | ServedDemand: 24488.35 | Reb. Cost: 11248.00: 100%|██████████| 2/2 [00:00<00:00,  4.06it/s]\n",
      "Test Episode 1 | Reward: 11231.33 | ServedDemand: 11231.33 | Reb. Cost: 0.00:  10%|█         | 1/10 [00:00<00:00,  9.26it/s]"
     ]
    },
    {
     "name": "stdout",
     "output_type": "stream",
     "text": [
      "Mean Episode Profit ($):  11110.254550191832\n",
      "Mean Episode Served Demand- Proit($):  22834.25455019183\n",
      "Mean Episode Rebalancing Cost($):  11724.0\n",
      "No control performance not found. Calculating (this happens only the first time on a new environment)...\n"
     ]
    },
    {
     "name": "stderr",
     "output_type": "stream",
     "text": [
      "Test Episode 10 | Reward: 12428.11 | ServedDemand: 12428.11 | Reb. Cost: 0.00: 100%|██████████| 10/10 [00:00<00:00, 10.35it/s]\n"
     ]
    },
    {
     "name": "stdout",
     "output_type": "stream",
     "text": [
      "No control performance calculated. Saving in ./src/envs/data/multi_macro/nyc_brooklyn_no_control_performance.json...\n",
      "/home/gaby/Documents/UCB/AAM/GIT/sastryrepo/Dynamic-Routing-with-Competition\n"
     ]
    },
    {
     "data": {
      "image/png": "[encoded data removed]",
      "text/plain": [
       "<Figure size 1080x360 with 3 Axes>"
      ]
     },
     "metadata": {
      "needs_background": "light"
     },
     "output_type": "display_data"
    }
   ],
   "source": [
    "%load_ext autoreload\n",
    "%autoreload 2\n",
    "import sys\n",
    "if 'testing' in sys.modules:\n",
    "    del sys.modules['testing']\n",
    "\n",
    "import testing\n",
    "importlib.reload(testing)\n",
    "config = {\n",
    "    \"simulator.name\": \"multi_macro\",\n",
    "    \"model.name\": [\"sac\", \"equal_distribution\", \"random\"],\n",
    "    \"simulator.city\": \"nyc_brooklyn\", \n",
    "    \"model.cplexpath\": None, \n",
    "    \"model.test_episodes\": 2,\n",
    "    \"model.checkpoint_path\": \"SAC_portion_2\",\n",
    "    \"simulator.reuse_no_control\": False,\n",
    "    \"simulator.firm_count\": 2,\n",
    "    \"simulator.agents_know_partial_demand\": True,\n",
    "    \"simulator.constant_vehicle_count\": True,\n",
    "    \"simulator.demand_filter_type\": \"portion\" \n",
    "}\n",
    "testing.multi_test(config)"
   ]
  },
  {
   "cell_type": "code",
   "execution_count": 4,
   "metadata": {},
   "outputs": [
    {
     "name": "stderr",
     "output_type": "stream",
     "text": [
      "Episode 50 | Reward: 1939.62 | ServedDemand: 10295.62 | Reb. Cost: 8356.00: 100%|██████████| 50/50 [00:41<00:00,  1.21it/s]\n"
     ]
    }
   ],
   "source": [
    "from train import train\n",
    "config = {\n",
    "    \"simulator.name\": \"multi_macro\",\n",
    "    \"model.name\": \"sac\",\n",
    "    \"simulator.city\": \"nyc_brooklyn\",\n",
    "    \"model.cplexpath\": None, \n",
    "    \"model.checkpoint_path\": \"SAC_portion_3\",\n",
    "    \"model.max_episodes\": 50,\n",
    "    \"simulator.reuse_no_control\": False,\n",
    "    \"simulator.firm_count\": 3,\n",
    "    \"simulator.agents_know_partial_demand\": True,\n",
    "    \"simulator.constant_vehicle_count\": True,\n",
    "    \"simulator.demand_filter_type\": \"portion\" \n",
    "}\n",
    "train(config)"
   ]
  },
  {
   "cell_type": "code",
   "execution_count": 5,
   "metadata": {},
   "outputs": [
    {
     "name": "stderr",
     "output_type": "stream",
     "text": [
      "  0%|          | 0/10 [00:00<?, ?it/s]"
     ]
    },
    {
     "name": "stdout",
     "output_type": "stream",
     "text": [
      "The autoreload extension is already loaded. To reload it, use:\n",
      "  %reload_ext autoreload\n",
      "Testing model sac on multi_macro environment\n"
     ]
    },
    {
     "name": "stderr",
     "output_type": "stream",
     "text": [
      "Test Episode 10 | Reward: 12541.12 | ServedDemand: 16441.12 | Reb. Cost: 3900.00: 100%|██████████| 10/10 [00:03<00:00,  3.07it/s]\n",
      "  0%|          | 0/10 [00:00<?, ?it/s]"
     ]
    },
    {
     "name": "stdout",
     "output_type": "stream",
     "text": [
      "Mean Episode Profit ($):  12184.366303030303\n",
      "Mean Episode Served Demand- Proit($):  16257.966303030302\n",
      "Mean Episode Rebalancing Cost($):  4073.6\n",
      "Testing model equal_distribution on multi_macro environment\n"
     ]
    },
    {
     "name": "stderr",
     "output_type": "stream",
     "text": [
      "Test Episode 10 | Reward: 12129.97 | ServedDemand: 15939.97 | Reb. Cost: 3810.00: 100%|██████████| 10/10 [00:02<00:00,  4.07it/s]\n",
      "  0%|          | 0/10 [00:00<?, ?it/s]"
     ]
    },
    {
     "name": "stdout",
     "output_type": "stream",
     "text": [
      "Mean Episode Profit ($):  11822.996056277056\n",
      "Mean Episode Served Demand- Proit($):  15692.396056277057\n",
      "Mean Episode Rebalancing Cost($):  3869.4\n",
      "Testing model random on multi_macro environment\n"
     ]
    },
    {
     "name": "stderr",
     "output_type": "stream",
     "text": [
      "Test Episode 10 | Reward: 745.68 | ServedDemand: 9571.68 | Reb. Cost: 8826.00: 100%|██████████| 10/10 [00:02<00:00,  3.70it/s]\n",
      "Test Episode 1 | Reward: 4654.52 | ServedDemand: 4654.52 | Reb. Cost: 0.00:  10%|█         | 1/10 [00:00<00:01,  8.66it/s]"
     ]
    },
    {
     "name": "stdout",
     "output_type": "stream",
     "text": [
      "Mean Episode Profit ($):  3428.3823051948057\n",
      "Mean Episode Served Demand- Proit($):  11654.782305194805\n",
      "Mean Episode Rebalancing Cost($):  8226.4\n",
      "No control performance not found. Calculating (this happens only the first time on a new environment)...\n"
     ]
    },
    {
     "name": "stderr",
     "output_type": "stream",
     "text": [
      "Test Episode 10 | Reward: 5010.16 | ServedDemand: 5010.16 | Reb. Cost: 0.00: 100%|██████████| 10/10 [00:00<00:00, 10.69it/s]\n"
     ]
    },
    {
     "name": "stdout",
     "output_type": "stream",
     "text": [
      "No control performance calculated. Saving in ./src/envs/data/multi_macro/nyc_brooklyn_no_control_performance.json...\n",
      "/home/gaby/Documents/UCB/AAM/GIT/sastryrepo/Dynamic-Routing-with-Competition\n"
     ]
    },
    {
     "data": {
      "image/png": "[encoded data removed]",
      "text/plain": [
       "<Figure size 1080x360 with 3 Axes>"
      ]
     },
     "metadata": {
      "needs_background": "light"
     },
     "output_type": "display_data"
    }
   ],
   "source": [
    "%load_ext autoreload\n",
    "%autoreload 2\n",
    "import sys\n",
    "if 'testing' in sys.modules:\n",
    "    del sys.modules['testing']\n",
    "\n",
    "import testing\n",
    "importlib.reload(testing)\n",
    "config = {\n",
    "    \"simulator.name\": \"multi_macro\",\n",
    "    \"model.name\": [\"sac\", \"equal_distribution\", \"random\"],\n",
    "    \"simulator.city\": \"nyc_brooklyn\", \n",
    "    \"model.cplexpath\": None, \n",
    "    \"model.test_episodes\": 10,\n",
    "    \"model.checkpoint_path\": \"SAC_portion_3\",\n",
    "    \"simulator.reuse_no_control\": False,\n",
    "    \"simulator.firm_count\": 3,\n",
    "    \"simulator.agents_know_partial_demand\": True,\n",
    "    \"simulator.constant_vehicle_count\": True,\n",
    "    \"simulator.demand_filter_type\": \"portion\" \n",
    "}\n",
    "testing.multi_test(config)"
   ]
  },
  {
   "cell_type": "code",
   "execution_count": 6,
   "metadata": {},
   "outputs": [
    {
     "name": "stderr",
     "output_type": "stream",
     "text": [
      "Episode 50 | Reward: -395.72 | ServedDemand: 5816.28 | Reb. Cost: 6212.00: 100%|██████████| 50/50 [00:40<00:00,  1.24it/s] \n"
     ]
    }
   ],
   "source": [
    "from train import train\n",
    "config = {\n",
    "    \"simulator.name\": \"multi_macro\",\n",
    "    \"model.name\": \"sac\",\n",
    "    \"simulator.city\": \"nyc_brooklyn\",\n",
    "    \"model.cplexpath\": None, \n",
    "    \"model.checkpoint_path\": \"SAC_portion_4\",\n",
    "    \"model.max_episodes\": 50,\n",
    "    \"simulator.reuse_no_control\": False,\n",
    "    \"simulator.firm_count\": 4,\n",
    "    \"simulator.agents_know_partial_demand\": True,\n",
    "    \"simulator.constant_vehicle_count\": True,\n",
    "    \"simulator.demand_filter_type\": \"portion\" \n",
    "}\n",
    "train(config)"
   ]
  },
  {
   "cell_type": "code",
   "execution_count": 7,
   "metadata": {},
   "outputs": [
    {
     "name": "stderr",
     "output_type": "stream",
     "text": [
      "  0%|          | 0/10 [00:00<?, ?it/s]"
     ]
    },
    {
     "name": "stdout",
     "output_type": "stream",
     "text": [
      "The autoreload extension is already loaded. To reload it, use:\n",
      "  %reload_ext autoreload\n",
      "Testing model sac on multi_macro environment\n"
     ]
    },
    {
     "name": "stderr",
     "output_type": "stream",
     "text": [
      "Test Episode 10 | Reward: 5080.24 | ServedDemand: 7816.24 | Reb. Cost: 2736.00: 100%|██████████| 10/10 [00:03<00:00,  3.30it/s]\n",
      "  0%|          | 0/10 [00:00<?, ?it/s]"
     ]
    },
    {
     "name": "stdout",
     "output_type": "stream",
     "text": [
      "Mean Episode Profit ($):  4932.879931379731\n",
      "Mean Episode Served Demand- Proit($):  7557.879931379731\n",
      "Mean Episode Rebalancing Cost($):  2625.0\n",
      "Testing model equal_distribution on multi_macro environment\n"
     ]
    },
    {
     "name": "stderr",
     "output_type": "stream",
     "text": [
      "Test Episode 10 | Reward: 4830.24 | ServedDemand: 7622.24 | Reb. Cost: 2792.00: 100%|██████████| 10/10 [00:02<00:00,  4.24it/s]\n",
      "  0%|          | 0/10 [00:00<?, ?it/s]"
     ]
    },
    {
     "name": "stdout",
     "output_type": "stream",
     "text": [
      "Mean Episode Profit ($):  4854.976059933716\n",
      "Mean Episode Served Demand- Proit($):  7448.3760599337165\n",
      "Mean Episode Rebalancing Cost($):  2593.4\n",
      "Testing model random on multi_macro environment\n"
     ]
    },
    {
     "name": "stderr",
     "output_type": "stream",
     "text": [
      "Test Episode 10 | Reward: -532.67 | ServedDemand: 5899.33 | Reb. Cost: 6432.00: 100%|██████████| 10/10 [00:02<00:00,  4.04it/s]\n",
      "Test Episode 2 | Reward: 3838.10 | ServedDemand: 3838.10 | Reb. Cost: 0.00:  20%|██        | 2/10 [00:00<00:00, 12.11it/s]"
     ]
    },
    {
     "name": "stdout",
     "output_type": "stream",
     "text": [
      "Mean Episode Profit ($):  -1019.5613398918542\n",
      "Mean Episode Served Demand- Proit($):  5685.438660108146\n",
      "Mean Episode Rebalancing Cost($):  6705.0\n",
      "No control performance not found. Calculating (this happens only the first time on a new environment)...\n"
     ]
    },
    {
     "name": "stderr",
     "output_type": "stream",
     "text": [
      "Test Episode 10 | Reward: 3831.54 | ServedDemand: 3831.54 | Reb. Cost: 0.00: 100%|██████████| 10/10 [00:00<00:00, 12.46it/s]\n"
     ]
    },
    {
     "name": "stdout",
     "output_type": "stream",
     "text": [
      "No control performance calculated. Saving in ./src/envs/data/multi_macro/nyc_brooklyn_no_control_performance.json...\n",
      "/home/gaby/Documents/UCB/AAM/GIT/sastryrepo/Dynamic-Routing-with-Competition\n"
     ]
    },
    {
     "data": {
      "image/png": "[encoded data removed]",
      "text/plain": [
       "<Figure size 1080x360 with 3 Axes>"
      ]
     },
     "metadata": {
      "needs_background": "light"
     },
     "output_type": "display_data"
    }
   ],
   "source": [
    "%load_ext autoreload\n",
    "%autoreload 2\n",
    "import sys\n",
    "if 'testing' in sys.modules:\n",
    "    del sys.modules['testing']\n",
    "\n",
    "import testing\n",
    "importlib.reload(testing)\n",
    "config = {\n",
    "    \"simulator.name\": \"multi_macro\",\n",
    "    \"model.name\": [\"sac\", \"equal_distribution\", \"random\"],\n",
    "    \"simulator.city\": \"nyc_brooklyn\", \n",
    "    \"model.cplexpath\": None, \n",
    "    \"model.test_episodes\": 10,\n",
    "    \"model.checkpoint_path\": \"SAC_portion_4\",\n",
    "    \"simulator.reuse_no_control\": False,\n",
    "    \"simulator.firm_count\": 4,\n",
    "    \"simulator.agents_know_partial_demand\": True,\n",
    "    \"simulator.constant_vehicle_count\": True,\n",
    "    \"simulator.demand_filter_type\": \"portion\" \n",
    "}\n",
    "testing.multi_test(config)"
   ]
  },
  {
   "cell_type": "markdown",
   "metadata": {},
   "source": [
    "### Flow based / Constant Vehicle Count"
   ]
  },
  {
   "cell_type": "code",
   "execution_count": 14,
   "metadata": {},
   "outputs": [
    {
     "name": "stderr",
     "output_type": "stream",
     "text": [
      "Episode 50 | Reward: 14875.45 | ServedDemand: 25027.45 | Reb. Cost: 10152.00: 100%|██████████| 50/50 [00:38<00:00,  1.28it/s]\n"
     ]
    }
   ],
   "source": [
    "from train import train\n",
    "config = {\n",
    "    \"simulator.name\": \"multi_macro\",\n",
    "    \"model.name\": \"sac\",\n",
    "    \"simulator.city\": \"nyc_brooklyn\",\n",
    "    \"model.cplexpath\": None, \n",
    "    \"model.checkpoint_path\": \"SAC_flow_2\",\n",
    "    \"model.max_episodes\": 50,\n",
    "    \"simulator.reuse_no_control\": False,\n",
    "    \"simulator.firm_count\": 2,\n",
    "    \"simulator.agents_know_partial_demand\": True,\n",
    "    \"simulator.constant_vehicle_count\": True,\n",
    "    \"simulator.demand_filter_type\": \"flow\"  # or portion\n",
    "}\n",
    "train(config)"
   ]
  },
  {
   "cell_type": "code",
   "execution_count": 16,
   "metadata": {},
   "outputs": [
    {
     "name": "stderr",
     "output_type": "stream",
     "text": [
      "  0%|          | 0/10 [00:00<?, ?it/s]"
     ]
    },
    {
     "name": "stdout",
     "output_type": "stream",
     "text": [
      "The autoreload extension is already loaded. To reload it, use:\n",
      "  %reload_ext autoreload\n",
      "Testing model sac on multi_macro environment\n"
     ]
    },
    {
     "name": "stderr",
     "output_type": "stream",
     "text": [
      "Test Episode 10 | Reward: 25240.60 | ServedDemand: 29954.60 | Reb. Cost: 4714.00: 100%|██████████| 10/10 [00:02<00:00,  3.41it/s]\n",
      "  0%|          | 0/10 [00:00<?, ?it/s]"
     ]
    },
    {
     "name": "stdout",
     "output_type": "stream",
     "text": [
      "Mean Episode Profit ($):  25220.5488114835\n",
      "Mean Episode Served Demand- Proit($):  30053.148811483494\n",
      "Mean Episode Rebalancing Cost($):  4832.6\n",
      "Testing model equal_distribution on multi_macro environment\n"
     ]
    },
    {
     "name": "stderr",
     "output_type": "stream",
     "text": [
      "Test Episode 10 | Reward: 25184.08 | ServedDemand: 29912.08 | Reb. Cost: 4728.00: 100%|██████████| 10/10 [00:02<00:00,  4.20it/s]\n",
      "  0%|          | 0/10 [00:00<?, ?it/s]"
     ]
    },
    {
     "name": "stdout",
     "output_type": "stream",
     "text": [
      "Mean Episode Profit ($):  25112.71062637107\n",
      "Mean Episode Served Demand- Proit($):  29921.11062637107\n",
      "Mean Episode Rebalancing Cost($):  4808.4\n",
      "Testing model random on multi_macro environment\n"
     ]
    },
    {
     "name": "stderr",
     "output_type": "stream",
     "text": [
      "Test Episode 10 | Reward: 15808.34 | ServedDemand: 25236.34 | Reb. Cost: 9428.00: 100%|██████████| 10/10 [00:02<00:00,  4.10it/s]\n",
      "Test Episode 2 | Reward: 13640.06 | ServedDemand: 13640.06 | Reb. Cost: 0.00:  20%|██        | 2/10 [00:00<00:00, 10.22it/s]"
     ]
    },
    {
     "name": "stdout",
     "output_type": "stream",
     "text": [
      "Mean Episode Profit ($):  13908.337844558127\n",
      "Mean Episode Served Demand- Proit($):  24407.13784455813\n",
      "Mean Episode Rebalancing Cost($):  10498.8\n",
      "No control performance not found. Calculating (this happens only the first time on a new environment)...\n"
     ]
    },
    {
     "name": "stderr",
     "output_type": "stream",
     "text": [
      "Test Episode 10 | Reward: 14044.55 | ServedDemand: 14044.55 | Reb. Cost: 0.00: 100%|██████████| 10/10 [00:00<00:00, 11.23it/s]\n"
     ]
    },
    {
     "name": "stdout",
     "output_type": "stream",
     "text": [
      "No control performance calculated. Saving in ./src/envs/data/multi_macro/nyc_brooklyn_no_control_performance.json...\n",
      "/home/gaby/Documents/UCB/AAM/GIT/sastryrepo/Dynamic-Routing-with-Competition\n"
     ]
    },
    {
     "data": {
      "image/png": "[encoded data removed]",
      "text/plain": [
       "<Figure size 1080x360 with 3 Axes>"
      ]
     },
     "metadata": {
      "needs_background": "light"
     },
     "output_type": "display_data"
    }
   ],
   "source": [
    "%load_ext autoreload\n",
    "%autoreload 2\n",
    "import sys\n",
    "if 'testing' in sys.modules:\n",
    "    del sys.modules['testing']\n",
    "\n",
    "import testing\n",
    "importlib.reload(testing)\n",
    "config = {\n",
    "    \"simulator.name\": \"multi_macro\",\n",
    "    \"model.name\": [\"sac\", \"equal_distribution\", \"random\"],\n",
    "    \"simulator.city\": \"nyc_brooklyn\", \n",
    "    \"model.cplexpath\": None, \n",
    "    \"model.test_episodes\": 10,\n",
    "    \"model.checkpoint_path\": \"SAC_flow_2\",\n",
    "    \"simulator.reuse_no_control\": False,\n",
    "    \"simulator.firm_count\": 2,\n",
    "    \"simulator.agents_know_partial_demand\": True,\n",
    "    \"simulator.constant_vehicle_count\": True,\n",
    "    \"simulator.demand_filter_type\": \"flow\" \n",
    "}\n",
    "testing.multi_test(config)"
   ]
  },
  {
   "cell_type": "code",
   "execution_count": 17,
   "metadata": {},
   "outputs": [
    {
     "name": "stderr",
     "output_type": "stream",
     "text": [
      "Episode 50 | Reward: 6646.60 | ServedDemand: 14586.60 | Reb. Cost: 7940.00: 100%|██████████| 50/50 [00:40<00:00,  1.24it/s] \n"
     ]
    }
   ],
   "source": [
    "from train import train\n",
    "config = {\n",
    "    \"simulator.name\": \"multi_macro\",\n",
    "    \"model.name\": \"sac\",\n",
    "    \"simulator.city\": \"nyc_brooklyn\",\n",
    "    \"model.cplexpath\": None, \n",
    "    \"model.checkpoint_path\": \"SAC_flow_3\",\n",
    "    \"model.max_episodes\": 50,\n",
    "    \"simulator.reuse_no_control\": False,\n",
    "    \"simulator.firm_count\": 3,\n",
    "    \"simulator.agents_know_partial_demand\": True,\n",
    "    \"simulator.constant_vehicle_count\": True,\n",
    "    \"simulator.demand_filter_type\": \"flow\" \n",
    "}\n",
    "train(config)"
   ]
  },
  {
   "cell_type": "code",
   "execution_count": 18,
   "metadata": {},
   "outputs": [
    {
     "name": "stderr",
     "output_type": "stream",
     "text": [
      "  0%|          | 0/10 [00:00<?, ?it/s]"
     ]
    },
    {
     "name": "stdout",
     "output_type": "stream",
     "text": [
      "The autoreload extension is already loaded. To reload it, use:\n",
      "  %reload_ext autoreload\n",
      "Testing model sac on multi_macro environment\n"
     ]
    },
    {
     "name": "stderr",
     "output_type": "stream",
     "text": [
      "Test Episode 10 | Reward: 16779.72 | ServedDemand: 20189.72 | Reb. Cost: 3410.00: 100%|██████████| 10/10 [00:03<00:00,  3.03it/s]\n",
      "  0%|          | 0/10 [00:00<?, ?it/s]"
     ]
    },
    {
     "name": "stdout",
     "output_type": "stream",
     "text": [
      "Mean Episode Profit ($):  16723.62449005231\n",
      "Mean Episode Served Demand- Proit($):  19991.62449005231\n",
      "Mean Episode Rebalancing Cost($):  3268.0\n",
      "Testing model equal_distribution on multi_macro environment\n"
     ]
    },
    {
     "name": "stderr",
     "output_type": "stream",
     "text": [
      "Test Episode 10 | Reward: 16408.07 | ServedDemand: 19670.07 | Reb. Cost: 3262.00: 100%|██████████| 10/10 [00:02<00:00,  3.94it/s]\n",
      "  0%|          | 0/10 [00:00<?, ?it/s]"
     ]
    },
    {
     "name": "stdout",
     "output_type": "stream",
     "text": [
      "Mean Episode Profit ($):  16372.267714017351\n",
      "Mean Episode Served Demand- Proit($):  19532.26771401735\n",
      "Mean Episode Rebalancing Cost($):  3160.0\n",
      "Testing model random on multi_macro environment\n"
     ]
    },
    {
     "name": "stderr",
     "output_type": "stream",
     "text": [
      "Test Episode 10 | Reward: 9259.95 | ServedDemand: 16103.95 | Reb. Cost: 6844.00: 100%|██████████| 10/10 [00:02<00:00,  4.02it/s]\n",
      "Test Episode 2 | Reward: 9134.59 | ServedDemand: 9134.59 | Reb. Cost: 0.00:  20%|██        | 2/10 [00:00<00:00, 12.28it/s]"
     ]
    },
    {
     "name": "stdout",
     "output_type": "stream",
     "text": [
      "Mean Episode Profit ($):  8548.889507780574\n",
      "Mean Episode Served Demand- Proit($):  15683.689507780573\n",
      "Mean Episode Rebalancing Cost($):  7134.8\n",
      "No control performance not found. Calculating (this happens only the first time on a new environment)...\n"
     ]
    },
    {
     "name": "stderr",
     "output_type": "stream",
     "text": [
      "Test Episode 10 | Reward: 8257.65 | ServedDemand: 8257.65 | Reb. Cost: 0.00: 100%|██████████| 10/10 [00:00<00:00, 11.80it/s]\n"
     ]
    },
    {
     "name": "stdout",
     "output_type": "stream",
     "text": [
      "No control performance calculated. Saving in ./src/envs/data/multi_macro/nyc_brooklyn_no_control_performance.json...\n",
      "/home/gaby/Documents/UCB/AAM/GIT/sastryrepo/Dynamic-Routing-with-Competition\n"
     ]
    },
    {
     "data": {
      "image/png": "[encoded data removed]",
      "text/plain": [
       "<Figure size 1080x360 with 3 Axes>"
      ]
     },
     "metadata": {
      "needs_background": "light"
     },
     "output_type": "display_data"
    }
   ],
   "source": [
    "%load_ext autoreload\n",
    "%autoreload 2\n",
    "import sys\n",
    "if 'testing' in sys.modules:\n",
    "    del sys.modules['testing']\n",
    "\n",
    "import testing\n",
    "importlib.reload(testing)\n",
    "config = {\n",
    "    \"simulator.name\": \"multi_macro\",\n",
    "    \"model.name\": [\"sac\", \"equal_distribution\", \"random\"],\n",
    "    \"simulator.city\": \"nyc_brooklyn\", \n",
    "    \"model.cplexpath\": None, \n",
    "    \"model.test_episodes\": 10,\n",
    "    \"model.checkpoint_path\": \"SAC_flow_3\",\n",
    "    \"simulator.reuse_no_control\": False,\n",
    "    \"simulator.firm_count\": 3,\n",
    "    \"simulator.agents_know_partial_demand\": True,\n",
    "    \"simulator.constant_vehicle_count\": True,\n",
    "    \"simulator.demand_filter_type\": \"flow\" \n",
    "}\n",
    "testing.multi_test(config)"
   ]
  },
  {
   "cell_type": "code",
   "execution_count": 19,
   "metadata": {},
   "outputs": [
    {
     "name": "stderr",
     "output_type": "stream",
     "text": [
      "Episode 50 | Reward: 5873.92 | ServedDemand: 11317.92 | Reb. Cost: 5444.00: 100%|██████████| 50/50 [00:42<00:00,  1.16it/s]\n"
     ]
    }
   ],
   "source": [
    "from train import train\n",
    "config = {\n",
    "    \"simulator.name\": \"multi_macro\",\n",
    "    \"model.name\": \"sac\",\n",
    "    \"simulator.city\": \"nyc_brooklyn\",\n",
    "    \"model.cplexpath\": None, \n",
    "    \"model.checkpoint_path\": \"SAC_flow_4\",\n",
    "    \"model.max_episodes\": 50,\n",
    "    \"simulator.reuse_no_control\": False,\n",
    "    \"simulator.firm_count\": 4,\n",
    "    \"simulator.agents_know_partial_demand\": True,\n",
    "    \"simulator.constant_vehicle_count\": True,\n",
    "    \"simulator.demand_filter_type\": \"flow\" \n",
    "}\n",
    "train(config)"
   ]
  },
  {
   "cell_type": "code",
   "execution_count": 20,
   "metadata": {},
   "outputs": [
    {
     "name": "stderr",
     "output_type": "stream",
     "text": [
      "  0%|          | 0/10 [00:00<?, ?it/s]"
     ]
    },
    {
     "name": "stdout",
     "output_type": "stream",
     "text": [
      "The autoreload extension is already loaded. To reload it, use:\n",
      "  %reload_ext autoreload\n",
      "Testing model sac on multi_macro environment\n"
     ]
    },
    {
     "name": "stderr",
     "output_type": "stream",
     "text": [
      "Test Episode 10 | Reward: 12670.13 | ServedDemand: 14962.13 | Reb. Cost: 2292.00: 100%|██████████| 10/10 [00:03<00:00,  3.01it/s]\n",
      "  0%|          | 0/10 [00:00<?, ?it/s]"
     ]
    },
    {
     "name": "stdout",
     "output_type": "stream",
     "text": [
      "Mean Episode Profit ($):  12033.090108787026\n",
      "Mean Episode Served Demand- Proit($):  14390.890108787027\n",
      "Mean Episode Rebalancing Cost($):  2357.8\n",
      "Testing model equal_distribution on multi_macro environment\n"
     ]
    },
    {
     "name": "stderr",
     "output_type": "stream",
     "text": [
      "Test Episode 10 | Reward: 12774.20 | ServedDemand: 15100.20 | Reb. Cost: 2326.00: 100%|██████████| 10/10 [00:02<00:00,  3.83it/s]\n",
      "  0%|          | 0/10 [00:00<?, ?it/s]"
     ]
    },
    {
     "name": "stdout",
     "output_type": "stream",
     "text": [
      "Mean Episode Profit ($):  12094.153507298712\n",
      "Mean Episode Served Demand- Proit($):  14524.953507298711\n",
      "Mean Episode Rebalancing Cost($):  2430.8\n",
      "Testing model random on multi_macro environment\n"
     ]
    },
    {
     "name": "stderr",
     "output_type": "stream",
     "text": [
      "Test Episode 10 | Reward: 7013.30 | ServedDemand: 12107.30 | Reb. Cost: 5094.00: 100%|██████████| 10/10 [00:02<00:00,  3.69it/s]\n",
      "Test Episode 1 | Reward: 7249.71 | ServedDemand: 7249.71 | Reb. Cost: 0.00:   0%|          | 0/10 [00:00<?, ?it/s]"
     ]
    },
    {
     "name": "stdout",
     "output_type": "stream",
     "text": [
      "Mean Episode Profit ($):  6556.136075206004\n",
      "Mean Episode Served Demand- Proit($):  11761.336075206003\n",
      "Mean Episode Rebalancing Cost($):  5205.2\n",
      "No control performance not found. Calculating (this happens only the first time on a new environment)...\n"
     ]
    },
    {
     "name": "stderr",
     "output_type": "stream",
     "text": [
      "Test Episode 10 | Reward: 7358.68 | ServedDemand: 7358.68 | Reb. Cost: 0.00: 100%|██████████| 10/10 [00:00<00:00, 10.24it/s]\n"
     ]
    },
    {
     "name": "stdout",
     "output_type": "stream",
     "text": [
      "No control performance calculated. Saving in ./src/envs/data/multi_macro/nyc_brooklyn_no_control_performance.json...\n",
      "/home/gaby/Documents/UCB/AAM/GIT/sastryrepo/Dynamic-Routing-with-Competition\n"
     ]
    },
    {
     "data": {
      "image/png": "[encoded data removed]",
      "text/plain": [
       "<Figure size 1080x360 with 3 Axes>"
      ]
     },
     "metadata": {
      "needs_background": "light"
     },
     "output_type": "display_data"
    }
   ],
   "source": [
    "%load_ext autoreload\n",
    "%autoreload 2\n",
    "import sys\n",
    "if 'testing' in sys.modules:\n",
    "    del sys.modules['testing']\n",
    "\n",
    "import testing\n",
    "importlib.reload(testing)\n",
    "config = {\n",
    "    \"simulator.name\": \"multi_macro\",\n",
    "    \"model.name\": [\"sac\", \"equal_distribution\", \"random\"],\n",
    "    \"simulator.city\": \"nyc_brooklyn\", \n",
    "    \"model.cplexpath\": None, \n",
    "    \"model.test_episodes\": 10,\n",
    "    \"model.checkpoint_path\": \"SAC_flow_4\",\n",
    "    \"simulator.reuse_no_control\": False,\n",
    "    \"simulator.firm_count\": 4,\n",
    "    \"simulator.agents_know_partial_demand\": True,\n",
    "    \"simulator.constant_vehicle_count\": True,\n",
    "    \"simulator.demand_filter_type\": \"flow\" \n",
    "}\n",
    "testing.multi_test(config)"
   ]
  },
  {
   "cell_type": "markdown",
   "metadata": {},
   "source": [
    "### Additional: SUMO Environment"
   ]
  },
  {
   "cell_type": "markdown",
   "metadata": {},
   "source": [
    "The SUMO environment is built around a mesoscopic traffic simulator using the Simulation of Urban MObility (SUMO) framework. The available scenario is based on the city of Luxembourg, utilizing the LuST Scenario (https://github.com/lcodeca/lux), where the traffic demand has been derived from a calibrated trips file. To create a more simplified and abstract representation of the city, the road network has been spatially aggregated into 10 regions, resulting in a coarser graph of the urban landscape."
   ]
  },
  {
   "cell_type": "markdown",
   "metadata": {},
   "source": [
    "<img src=\"figures/lux_net.png\" alt=\"drawing\" width=\"500\"/>    <img src=\"figures/lux_net_aggregated.png\" alt=\"drawing\" width=\"500\"/>"
   ]
  },
  {
   "cell_type": "code",
   "execution_count": null,
   "metadata": {},
   "outputs": [],
   "source": [
    "config = {\n",
    "\"simulator.name\": \"sumo\",\n",
    "\"model.name\": \"mpc\",\n",
    "\"simulator.city\": \"lux\",\n",
    "\"model.cplexpath\": None, \n",
    "\"model.test_episodes\": 1,\n",
    "}\n",
    "test(config)\n"
   ]
  }
 ],
 "metadata": {
  "kernelspec": {
   "display_name": "venv",
   "language": "python",
   "name": "python3"
  },
  "language_info": {
   "codemirror_mode": {
    "name": "ipython",
    "version": 3
   },
   "file_extension": ".py",
   "mimetype": "text/x-python",
   "name": "python",
   "nbconvert_exporter": "python",
   "pygments_lexer": "ipython3",
   "version": "3.12.10"
  }
 },
 "nbformat": 4,
 "nbformat_minor": 2
}
