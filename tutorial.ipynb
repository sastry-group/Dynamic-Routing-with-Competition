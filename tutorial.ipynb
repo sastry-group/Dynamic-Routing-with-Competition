{
 "cells": [
  {
   "cell_type": "markdown",
   "metadata": {},
   "source": [
    "### Welcome to the [Data-driven Methods for Network-level Coordination of Autonomous Mobility-on-Demand Systems Across Scales](https://rl4amod-itsc24.github.io/) coding tutorial, presented at 27th IEEE ITSC 2024"
   ]
  },
  {
   "cell_type": "markdown",
   "metadata": {},
   "source": [
    "<img src=\"figures/gnn-for-amod.png\" width=\"700\"/></td> <br/>"
   ]
  },
  {
   "cell_type": "markdown",
   "metadata": {},
   "source": [
    "Join us in moving the first steps toward the creation of publicly available benchmarks, datasets, and simulators for network-level coordination of MoD systems.\n",
    "\n",
    "This notebook offers an interactive, hands-on session for benchmarking AMoD controllers across \n",
    "- openly accessible simulation platforms across different fidelity levels \n",
    "- calibareted scenarios calibrat \n",
    "- Implementation of fleet coordination algorithms"
   ]
  },
  {
   "cell_type": "markdown",
   "metadata": {},
   "source": [
    "### Installation of required packages"
   ]
  },
  {
   "cell_type": "code",
   "execution_count": null,
   "metadata": {},
   "outputs": [],
   "source": [
    "!pip install hydra-core"
   ]
  },
  {
   "cell_type": "code",
   "execution_count": null,
   "metadata": {},
   "outputs": [],
   "source": [
    "!pip install PuLP"
   ]
  },
  {
   "cell_type": "code",
   "execution_count": null,
   "metadata": {},
   "outputs": [],
   "source": [
    "!pip install torch_geometric"
   ]
  },
  {
   "cell_type": "code",
   "execution_count": null,
   "metadata": {},
   "outputs": [],
   "source": [
    "!pip install traci"
   ]
  },
  {
   "cell_type": "markdown",
   "metadata": {},
   "source": [
    "### Clone the repository"
   ]
  },
  {
   "cell_type": "code",
   "execution_count": null,
   "metadata": {},
   "outputs": [],
   "source": [
    "!git clone https://github.com/StanfordASL/RL4AMOD"
   ]
  },
  {
   "cell_type": "code",
   "execution_count": null,
   "metadata": {},
   "outputs": [],
   "source": [
    "cd RL4AMOD"
   ]
  },
  {
   "cell_type": "markdown",
   "metadata": {},
   "source": [
    "### 1. The macro environment "
   ]
  },
  {
   "cell_type": "markdown",
   "metadata": {},
   "source": [
    "The macro envorinment is based on taxi record data colleted in various city, e.g. New York City, San Francisco, Washignton DC, Shenzhen. In each scenarion, the road network is segmented into stations by clustering junctions such that the travel time within each station is upper-bounded by a given error tolerance. "
   ]
  },
  {
   "cell_type": "markdown",
   "metadata": {},
   "source": [
    "In this notebook, we are looking at the nyc brooklyn scenario. It exists of 14 clustered regions with the following demand distribution: \n",
    "\n",
    "<img src=\"figures/demand_profit.png\" alt=\"drawing\" style=\"background-color: white; border: 1px solid black;\" width=\"800\"/>\n"
   ]
  },
  {
   "cell_type": "markdown",
   "metadata": {},
   "source": [
    "## 2. Baselines"
   ]
  },
  {
   "cell_type": "markdown",
   "metadata": {},
   "source": [
    "This repository provides a set of baseline policies, that aim to outperform the no-control policy, which serves as the lower bound. \n",
    "The simplest of these is the random rebalancing policy. We evaluate its performance against the no-control policy by assessing total profit, calculated as the profit from passengers served minus the cost of rebalancing."
   ]
  },
  {
   "cell_type": "code",
   "execution_count": null,
   "metadata": {},
   "outputs": [],
   "source": [
    "import importlib\n",
    "import testing\n",
    "import warnings\n",
    "warnings.filterwarnings(\"ignore\")\n",
    "importlib.reload(testing)"
   ]
  },
  {
   "cell_type": "code",
   "execution_count": null,
   "metadata": {},
   "outputs": [],
   "source": [
    "importlib.reload(testing)\n",
    "config = {\n",
    "    \"simulator.name\": \"macro\",\n",
    "    \"model.name\": \"random\",\n",
    "    \"simulator.city\": \"nyc_brooklyn\",\n",
    "    \"model.cplexpath\": None, \n",
    "    \"model.test_episodes\": 10,\n",
    "}\n",
    "!pwd\n",
    "testing.test(config)"
   ]
  },
  {
   "cell_type": "markdown",
   "metadata": {},
   "source": [
    "It’s no surprise that the random rebalancing policy fails to outperform the no-control policy. As shown in the figure on the right, it tends to relocate many vehicles to low-demand regions, resulting in inefficient rebalancing."
   ]
  },
  {
   "cell_type": "markdown",
   "metadata": {},
   "source": [
    "### Implement your own controller"
   ]
  },
  {
   "cell_type": "markdown",
   "metadata": {},
   "source": [
    "The random rebalancing policy is not able to outperform the no control baseline, so let's implement a policy that does. We can develop a control policy that aims to achieve an equal distribution of vehicles across the network while minimizing rebalancing costs."
   ]
  },
  {
   "cell_type": "code",
   "execution_count": null,
   "metadata": {},
   "outputs": [],
   "source": [
    "from src.misc.utils import dictsum\n",
    "from src.algos.reb_flow_solver import solveRebFlow\n",
    "from src.algos.base import BaseAlgorithm\n",
    "\n",
    "\n",
    "class EqualDistribution(BaseAlgorithm):\n",
    "    def __init__(self, **kwargs):\n",
    "        \"\"\"\n",
    "        :param cplexpath: Path to the CPLEX solver.\n",
    "        \"\"\"\n",
    "        self.cplexpath = kwargs.get('cplexpath') #None, for no CPLEX\n",
    "\n",
    "    def select_action(self, env):\n",
    "        \"\"\"\n",
    "        Implements the Equal Distribution (ED) baseline for rebalancing.\n",
    "        :param env: The current state of the environment\n",
    "        :return: The rebalancing action to be taken\n",
    "        \"\"\"\n",
    "        # number of regions in this scenario\n",
    "        nregions = env.nregion\n",
    "        \n",
    "        #determines the desired vehicle distirbutions\n",
    "        action = [1 / nregions for _ in range(nregions)]\n",
    "        \n",
    "        #calculates the desired number of vehicles in each region\n",
    "        desired_acc = {\n",
    "            env.region[i]: int(action[i] * dictsum(env.acc, env.time +1))\n",
    "            for i in range(len(env.region))\n",
    "        }\n",
    "        \n",
    "        #calculated the min-cost rebalancing flow to reach desried distirbution\n",
    "        reb_action = solveRebFlow(env, desired_acc, self.cplexpath) \n",
    "        \n",
    "        return reb_action"
   ]
  },
  {
   "cell_type": "markdown",
   "metadata": {},
   "source": [
    "Now we can test this new policy and compare it to the no control baseline: "
   ]
  },
  {
   "cell_type": "code",
   "execution_count": null,
   "metadata": {},
   "outputs": [],
   "source": [
    "config = {\n",
    "    \"simulator.name\": \"macro\",\n",
    "    \"model.name\": \"equal_distribution\",\n",
    "    \"simulator.city\": \"nyc_brooklyn\",\n",
    "    \"model.cplexpath\": None, \n",
    "    \"model.test_episodes\": 10,\n",
    "}\n",
    "testing.test(config)"
   ]
  },
  {
   "cell_type": "markdown",
   "metadata": {},
   "source": [
    "While the equal distribution policy significantly boosts profit compared to the no-control baseline, the rebalancing flows still don't align entirely with the demand distribution. (e.g. region 10 and 12)"
   ]
  },
  {
   "cell_type": "markdown",
   "metadata": {},
   "source": [
    "## 3. RL-based policies "
   ]
  },
  {
   "cell_type": "markdown",
   "metadata": {},
   "source": [
    "Although the equal distribution policy already significantly outperforms the no-control baseline, it remains a reactive approach. Instead of relying on a policy that enforces an equal distribution of idle vehicles, we can implement a reinforcement learning (RL) policy that proactively adjusts the distribution based on the current state. \n",
    "\n",
    "In this repository, we already provide a pre-trained agent: "
   ]
  },
  {
   "cell_type": "code",
   "execution_count": null,
   "metadata": {},
   "outputs": [],
   "source": [
    "# from testing import test\n",
    "config = {\n",
    "    \"simulator.name\": \"macro\",\n",
    "    \"model.name\": \"sac\",\n",
    "    \"simulator.city\": \"nyc_brooklyn\", \n",
    "    \"model.cplexpath\": None, \n",
    "    \"model.test_episodes\": 10,\n",
    "    \"model.checkpoint_path\": \"SAC_nyc_brooklyn\"\n",
    "}\n",
    "testing.test(config)"
   ]
  },
  {
   "cell_type": "code",
   "execution_count": null,
   "metadata": {},
   "outputs": [],
   "source": [
    "%load_ext autoreload\n",
    "%autoreload 2\n",
    "import sys\n",
    "if 'testing' in sys.modules:\n",
    "    del sys.modules['testing']\n",
    "\n",
    "import testing\n",
    "importlib.reload(testing)\n",
    "config = {\n",
    "    \"simulator.name\": \"multi_macro\",\n",
    "    \"model.name\": [\"sac\", \"equal_distribution\", \"random\"],\n",
    "    \"simulator.city\": \"nyc_brooklyn\", \n",
    "    \"model.cplexpath\": None, \n",
    "    \"model.test_episodes\": 10,\n",
    "    \"model.checkpoint_path\": \"SAC_nyc_brooklyn\",\n",
    "    \"simulator.reuse_no_control\": False,\n",
    "    \"simulator.firm_count\": 4,\n",
    "    \"simulator.agents_know_partial_demand\": True,\n",
    "    \"simulator.constant_vehicle_count\": True\n",
    "}\n",
    "testing.multi_test(config)"
   ]
  },
  {
   "cell_type": "code",
   "execution_count": null,
   "metadata": {},
   "outputs": [],
   "source": [
    "# With not changing x\n",
    "importlib.reload(testing)\n",
    "config = {\n",
    "    \"simulator.name\": \"multi_macro\",\n",
    "    \"model.name\": \"equal_distribution\",\n",
    "    \"simulator.city\": \"nyc_brooklyn\",\n",
    "    \"model.cplexpath\": None, \n",
    "    \"model.test_episodes\": 10,\n",
    "}\n",
    "testing.test(config)"
   ]
  },
  {
   "cell_type": "code",
   "execution_count": null,
   "metadata": {},
   "outputs": [],
   "source": [
    "importlib.reload(testing)\n",
    "config = {\n",
    "    \"simulator.name\": \"multi_macro\",\n",
    "    \"model.name\": \"random\",\n",
    "    \"simulator.city\": \"nyc_brooklyn\",\n",
    "    \"model.cplexpath\": None, \n",
    "    \"model.test_episodes\": 10,\n",
    "}\n",
    "testing.test(config)"
   ]
  },
  {
   "cell_type": "markdown",
   "metadata": {},
   "source": [
    "### Final comparison"
   ]
  },
  {
   "cell_type": "markdown",
   "metadata": {},
   "source": [
    "<img src=\"figures/comparison_final.png\" alt=\"drawing\" style=\"background-color: white; border: 1px solid black;\" width=\"650\"/>"
   ]
  },
  {
   "cell_type": "markdown",
   "metadata": {},
   "source": [
    "## 4. Implement an RL agent"
   ]
  },
  {
   "cell_type": "markdown",
   "metadata": {},
   "source": [
    "Generally policy takes the current state as input and outputs the next action $\\pi(a_t | s_t)$:\n",
    "\n",
    "<img src=\"figures/NN_Actor.png\" alt=\"drawing\" style=\"background-color: white; border: 1px solid black;\" width=\"200\"/>"
   ]
  },
  {
   "cell_type": "code",
   "execution_count": null,
   "metadata": {},
   "outputs": [],
   "source": [
    "from torch import nn\n",
    "import torch.nn.functional as F\n",
    "from torch.distributions import Dirichlet\n",
    "\n",
    "class Actor(nn.Module):\n",
    "    \"\"\"\n",
    "    Actor \\pi(a_t | s_t) parametrizing the concentration parameters of a Dirichlet Policy.\n",
    "    \"\"\"\n",
    "\n",
    "    def __init__(self, in_channels, act_dim, hidden_size=32):\n",
    "        super().__init__()\n",
    "        \"\"\"\n",
    "        in_channels: state dimension\n",
    "        act_dim: action dimension\n",
    "        \"\"\"\n",
    "        self.lin1 = nn.Linear(in_channels, hidden_size)\n",
    "        self.lin2 = nn.Linear(hidden_size, hidden_size)\n",
    "        self.lin3 = nn.Linear(hidden_size, act_dim)\n",
    "    \n",
    "    def forward(self, state):\n",
    "        x = F.relu(self.lin1(state))\n",
    "        x = F.relu(self.lin2(x))\n",
    "        x = F.softplus(self.lin3(x))\n",
    "    \n",
    "        concentration = x.squeeze(-1)\n",
    "        m = Dirichlet(concentration + 1e-20)\n",
    "        action = m.sample()\n",
    "\n",
    "        return action"
   ]
  },
  {
   "cell_type": "code",
   "execution_count": null,
   "metadata": {},
   "outputs": [],
   "source": [
    "import torch\n",
    "import matplotlib.pyplot as plt\n",
    "'''\n",
    "The state consits of 14 regions/nodes with 13 node features each\n",
    "'''\n",
    "state = torch.ones(14, 13) \n",
    "\n",
    "state = state.flatten() #MLP expects a vector input\n",
    "\n",
    "actor = Actor(in_channels=14*13, act_dim=14)\n",
    "\n",
    "action = actor(state)"
   ]
  },
  {
   "cell_type": "code",
   "execution_count": null,
   "metadata": {},
   "outputs": [],
   "source": [
    "plt.bar(range(14), action.detach().numpy())\n",
    "plt.show()"
   ]
  },
  {
   "cell_type": "code",
   "execution_count": null,
   "metadata": {},
   "outputs": [],
   "source": [
    "from torch import nn\n",
    "import torch.nn.functional as F\n",
    "from torch.distributions import Dirichlet\n",
    "from torch_geometric.nn import GCNConv\n",
    "\n",
    "\n",
    "class GNNActor(nn.Module):\n",
    "    \"\"\"\n",
    "    Actor \\pi(a_t | s_t) parametrizing the concentration parameters of a Dirichlet Policy.\n",
    "    \"\"\"\n",
    "\n",
    "    def __init__(self, in_channels, hidden_size=32, act_dim=6):\n",
    "        super().__init__()\n",
    "        self.in_channels = in_channels\n",
    "        self.act_dim = act_dim\n",
    "        self.conv1 = GCNConv(in_channels, in_channels)\n",
    "        self.lin1 = nn.Linear(in_channels, hidden_size)\n",
    "        self.lin2 = nn.Linear(hidden_size, hidden_size)\n",
    "        self.lin3 = nn.Linear(hidden_size, 1)\n",
    "\n",
    "    def forward(self, state, edge_index):\n",
    "        out = F.relu(self.conv1(state, edge_index))\n",
    "        x = out + state\n",
    "        \n",
    "        x = F.relu(self.lin1(x))\n",
    "        x = F.relu(self.lin2(x))\n",
    "        x = F.softplus(self.lin3(x))\n",
    "        \n",
    "        concentration = x.squeeze(-1)\n",
    "        m = Dirichlet(concentration + 1e-20)\n",
    "        action = m.sample()\n",
    "           \n",
    "        return action\n",
    "    "
   ]
  },
  {
   "cell_type": "code",
   "execution_count": null,
   "metadata": {},
   "outputs": [],
   "source": [
    "state = torch.ones(14, 13) \n",
    "edge_index = torch.tensor([[0, 1, 1, 2, 2, 3, 3, 4, 4, 5, 5, 6, 6, 7, 7, 8, 8, 9, 9, 10, 10, 11, 11, 12, 12, 13],\n",
    "                           [1, 0, 2, 1, 3, 2, 4, 3, 5, 4, 6, 5, 7, 6, 8, 7, 9, 8, 10, 9, 11, 10, 12, 11, 13, 12]])\n",
    "\n",
    "actor = GNNActor(in_channels=13)\n",
    "\n",
    "action = actor(state, edge_index)\n",
    "\n",
    "plt.bar(range(14), action.detach().numpy())\n",
    "plt.show()"
   ]
  },
  {
   "cell_type": "markdown",
   "metadata": {},
   "source": [
    "## Train an RL agent"
   ]
  },
  {
   "cell_type": "markdown",
   "metadata": {},
   "source": [
    "### Portion based / Constant Vehicle Count"
   ]
  },
  {
   "cell_type": "code",
   "execution_count": 29,
   "metadata": {},
   "outputs": [
    {
     "data": {
      "text/plain": [
       "<module 'testing' from '/home/gaby/Documents/UCB/AAM/GIT/sastryrepo/Dynamic-Routing-with-Competition/testing.py'>"
      ]
     },
     "execution_count": 29,
     "metadata": {},
     "output_type": "execute_result"
    }
   ],
   "source": [
    "import importlib\n",
    "import testing\n",
    "import warnings\n",
    "warnings.filterwarnings(\"ignore\")\n",
    "importlib.reload(testing)"
   ]
  },
  {
   "cell_type": "code",
   "execution_count": 30,
   "metadata": {},
   "outputs": [
    {
     "name": "stderr",
     "output_type": "stream",
     "text": [
      "  0%|          | 0/50 [00:00<?, ?it/s]"
     ]
    },
    {
     "name": "stdout",
     "output_type": "stream",
     "text": [
      "Episode 1 | Reward: 1291.90 | ServedDemand: 1291.90 | Reb. Cost: 0.00\n"
     ]
    },
    {
     "name": "stderr",
     "output_type": "stream",
     "text": [
      "Episode 1 | Reward: 21218.68 | ServedDemand: 30256.68 | Reb. Cost: 9038.00:   2%|▏         | 1/50 [00:00<00:15,  3.10it/s]"
     ]
    },
    {
     "name": "stdout",
     "output_type": "stream",
     "text": [
      "Episode 1 | Reward: 21218.68 | ServedDemand: 30256.68 | Reb. Cost: 9038.00\n",
      "Episode 2 | Reward: 1810.30 | ServedDemand: 1810.30 | Reb. Cost: 0.00\n"
     ]
    },
    {
     "name": "stderr",
     "output_type": "stream",
     "text": [
      "Episode 2 | Reward: 18856.70 | ServedDemand: 29132.70 | Reb. Cost: 10276.00:   4%|▍         | 2/50 [00:00<00:15,  3.13it/s]"
     ]
    },
    {
     "name": "stdout",
     "output_type": "stream",
     "text": [
      "Episode 2 | Reward: 18856.70 | ServedDemand: 29132.70 | Reb. Cost: 10276.00\n",
      "Episode 3 | Reward: 1703.30 | ServedDemand: 1703.30 | Reb. Cost: 0.00\n"
     ]
    },
    {
     "name": "stderr",
     "output_type": "stream",
     "text": [
      "Episode 3 | Reward: 18482.33 | ServedDemand: 29284.33 | Reb. Cost: 10802.00:   6%|▌         | 3/50 [00:00<00:14,  3.19it/s]"
     ]
    },
    {
     "name": "stdout",
     "output_type": "stream",
     "text": [
      "Episode 3 | Reward: 18482.33 | ServedDemand: 29284.33 | Reb. Cost: 10802.00\n",
      "Episode 4 | Reward: 1896.40 | ServedDemand: 1896.40 | Reb. Cost: 0.00\n"
     ]
    },
    {
     "name": "stderr",
     "output_type": "stream",
     "text": [
      "Episode 4 | Reward: 19475.85 | ServedDemand: 29401.85 | Reb. Cost: 9926.00:   8%|▊         | 4/50 [00:01<00:14,  3.18it/s] "
     ]
    },
    {
     "name": "stdout",
     "output_type": "stream",
     "text": [
      "Episode 4 | Reward: 19475.85 | ServedDemand: 29401.85 | Reb. Cost: 9926.00\n",
      "Episode 5 | Reward: 1560.90 | ServedDemand: 1560.90 | Reb. Cost: 0.00\n"
     ]
    },
    {
     "name": "stderr",
     "output_type": "stream",
     "text": [
      "Episode 5 | Reward: 18652.00 | ServedDemand: 29012.00 | Reb. Cost: 10360.00:  10%|█         | 5/50 [00:01<00:13,  3.31it/s]"
     ]
    },
    {
     "name": "stdout",
     "output_type": "stream",
     "text": [
      "Episode 5 | Reward: 18652.00 | ServedDemand: 29012.00 | Reb. Cost: 10360.00\n",
      "Episode 6 | Reward: 1444.60 | ServedDemand: 1444.60 | Reb. Cost: 0.00\n"
     ]
    },
    {
     "name": "stderr",
     "output_type": "stream",
     "text": [
      "Episode 6 | Reward: 18800.86 | ServedDemand: 29022.86 | Reb. Cost: 10222.00:  12%|█▏        | 6/50 [00:01<00:13,  3.34it/s]"
     ]
    },
    {
     "name": "stdout",
     "output_type": "stream",
     "text": [
      "Episode 6 | Reward: 18800.86 | ServedDemand: 29022.86 | Reb. Cost: 10222.00\n",
      "Episode 7 | Reward: 1590.80 | ServedDemand: 1590.80 | Reb. Cost: 0.00\n"
     ]
    },
    {
     "name": "stderr",
     "output_type": "stream",
     "text": [
      "Episode 7 | Reward: 18444.56 | ServedDemand: 28496.56 | Reb. Cost: 10052.00:  14%|█▍        | 7/50 [00:02<00:12,  3.34it/s]"
     ]
    },
    {
     "name": "stdout",
     "output_type": "stream",
     "text": [
      "Episode 7 | Reward: 18444.56 | ServedDemand: 28496.56 | Reb. Cost: 10052.00\n",
      "Episode 8 | Reward: 1815.10 | ServedDemand: 1815.10 | Reb. Cost: 0.00\n"
     ]
    },
    {
     "name": "stderr",
     "output_type": "stream",
     "text": [
      "Episode 8 | Reward: 22044.58 | ServedDemand: 30980.58 | Reb. Cost: 8936.00:  16%|█▌        | 8/50 [00:02<00:12,  3.38it/s] "
     ]
    },
    {
     "name": "stdout",
     "output_type": "stream",
     "text": [
      "Episode 8 | Reward: 22044.58 | ServedDemand: 30980.58 | Reb. Cost: 8936.00\n",
      "Episode 9 | Reward: 1545.50 | ServedDemand: 1545.50 | Reb. Cost: 0.00\n"
     ]
    },
    {
     "name": "stderr",
     "output_type": "stream",
     "text": [
      "Episode 9 | Reward: 20180.64 | ServedDemand: 29648.64 | Reb. Cost: 9468.00:  18%|█▊        | 9/50 [00:02<00:11,  3.44it/s]"
     ]
    },
    {
     "name": "stdout",
     "output_type": "stream",
     "text": [
      "Episode 9 | Reward: 20180.64 | ServedDemand: 29648.64 | Reb. Cost: 9468.00\n",
      "Episode 10 | Reward: 1636.90 | ServedDemand: 1636.90 | Reb. Cost: 0.00\n"
     ]
    },
    {
     "name": "stderr",
     "output_type": "stream",
     "text": [
      "Episode 10 | Reward: 18328.48 | ServedDemand: 28732.48 | Reb. Cost: 10404.00:  20%|██        | 10/50 [00:03<00:12,  3.21it/s]"
     ]
    },
    {
     "name": "stdout",
     "output_type": "stream",
     "text": [
      "Episode 10 | Reward: 18328.48 | ServedDemand: 28732.48 | Reb. Cost: 10404.00\n",
      "Episode 11 | Reward: 1712.50 | ServedDemand: 1712.50 | Reb. Cost: 0.00\n"
     ]
    },
    {
     "name": "stderr",
     "output_type": "stream",
     "text": [
      "Episode 11 | Reward: 19154.59 | ServedDemand: 28976.59 | Reb. Cost: 9822.00:  22%|██▏       | 11/50 [00:03<00:12,  3.15it/s] "
     ]
    },
    {
     "name": "stdout",
     "output_type": "stream",
     "text": [
      "Episode 11 | Reward: 19154.59 | ServedDemand: 28976.59 | Reb. Cost: 9822.00\n",
      "Episode 12 | Reward: 1642.80 | ServedDemand: 1642.80 | Reb. Cost: 0.00\n"
     ]
    },
    {
     "name": "stderr",
     "output_type": "stream",
     "text": [
      "Episode 12 | Reward: 15115.01 | ServedDemand: 25439.01 | Reb. Cost: 10324.00:  24%|██▍       | 12/50 [00:04<00:18,  2.06it/s]"
     ]
    },
    {
     "name": "stdout",
     "output_type": "stream",
     "text": [
      "Episode 12 | Reward: 15115.01 | ServedDemand: 25439.01 | Reb. Cost: 10324.00\n",
      "Episode 13 | Reward: 1568.70 | ServedDemand: 1568.70 | Reb. Cost: 0.00\n"
     ]
    },
    {
     "name": "stderr",
     "output_type": "stream",
     "text": [
      "Episode 13 | Reward: 13136.97 | ServedDemand: 24586.97 | Reb. Cost: 11450.00:  26%|██▌       | 13/50 [00:05<00:22,  1.66it/s]"
     ]
    },
    {
     "name": "stdout",
     "output_type": "stream",
     "text": [
      "Episode 13 | Reward: 13136.97 | ServedDemand: 24586.97 | Reb. Cost: 11450.00\n",
      "Episode 14 | Reward: 1674.20 | ServedDemand: 1674.20 | Reb. Cost: 0.00\n"
     ]
    },
    {
     "name": "stderr",
     "output_type": "stream",
     "text": [
      "Episode 14 | Reward: 11200.41 | ServedDemand: 21700.41 | Reb. Cost: 10500.00:  28%|██▊       | 14/50 [00:06<00:25,  1.43it/s]"
     ]
    },
    {
     "name": "stdout",
     "output_type": "stream",
     "text": [
      "Episode 14 | Reward: 11200.41 | ServedDemand: 21700.41 | Reb. Cost: 10500.00\n",
      "Episode 15 | Reward: 1840.00 | ServedDemand: 1840.00 | Reb. Cost: 0.00\n"
     ]
    },
    {
     "name": "stderr",
     "output_type": "stream",
     "text": [
      "Episode 15 | Reward: 15282.93 | ServedDemand: 25218.93 | Reb. Cost: 9936.00:  30%|███       | 15/50 [00:06<00:26,  1.34it/s] "
     ]
    },
    {
     "name": "stdout",
     "output_type": "stream",
     "text": [
      "Episode 15 | Reward: 15282.93 | ServedDemand: 25218.93 | Reb. Cost: 9936.00\n",
      "Episode 16 | Reward: 1413.00 | ServedDemand: 1413.00 | Reb. Cost: 0.00\n"
     ]
    },
    {
     "name": "stderr",
     "output_type": "stream",
     "text": [
      "Episode 16 | Reward: 11346.52 | ServedDemand: 22548.52 | Reb. Cost: 11202.00:  32%|███▏      | 16/50 [00:07<00:26,  1.27it/s]Exception ignored in: <function WeakKeyDictionary.__init__.<locals>.remove at 0x73790e34d1c0>\n",
      "Traceback (most recent call last):\n",
      "  File \"/home/gaby/anaconda3/envs/droute/lib/python3.11/weakref.py\", line 369, in remove\n",
      "    def remove(k, selfref=ref(self)):\n",
      "\n",
      "KeyboardInterrupt: \n"
     ]
    },
    {
     "name": "stdout",
     "output_type": "stream",
     "text": [
      "Episode 16 | Reward: 11346.52 | ServedDemand: 22548.52 | Reb. Cost: 11202.00\n",
      "Episode 17 | Reward: 1365.20 | ServedDemand: 1365.20 | Reb. Cost: 0.00\n"
     ]
    },
    {
     "name": "stderr",
     "output_type": "stream",
     "text": [
      "Episode 17 | Reward: 13518.43 | ServedDemand: 24234.43 | Reb. Cost: 10716.00:  34%|███▍      | 17/50 [00:08<00:28,  1.17it/s]"
     ]
    },
    {
     "name": "stdout",
     "output_type": "stream",
     "text": [
      "Episode 17 | Reward: 13518.43 | ServedDemand: 24234.43 | Reb. Cost: 10716.00\n",
      "Episode 18 | Reward: 1693.80 | ServedDemand: 1693.80 | Reb. Cost: 0.00\n"
     ]
    },
    {
     "name": "stderr",
     "output_type": "stream",
     "text": [
      "Episode 18 | Reward: 12385.52 | ServedDemand: 23035.52 | Reb. Cost: 10650.00:  36%|███▌      | 18/50 [00:09<00:27,  1.18it/s]"
     ]
    },
    {
     "name": "stdout",
     "output_type": "stream",
     "text": [
      "Episode 18 | Reward: 12385.52 | ServedDemand: 23035.52 | Reb. Cost: 10650.00\n",
      "Episode 19 | Reward: 1871.60 | ServedDemand: 1871.60 | Reb. Cost: 0.00\n"
     ]
    },
    {
     "name": "stderr",
     "output_type": "stream",
     "text": [
      "Episode 19 | Reward: 10825.36 | ServedDemand: 22753.36 | Reb. Cost: 11928.00:  38%|███▊      | 19/50 [00:10<00:26,  1.16it/s]"
     ]
    },
    {
     "name": "stdout",
     "output_type": "stream",
     "text": [
      "Episode 19 | Reward: 10825.36 | ServedDemand: 22753.36 | Reb. Cost: 11928.00\n",
      "Episode 20 | Reward: 1802.60 | ServedDemand: 1802.60 | Reb. Cost: 0.00\n"
     ]
    },
    {
     "name": "stderr",
     "output_type": "stream",
     "text": [
      "Episode 20 | Reward: 12573.27 | ServedDemand: 23797.27 | Reb. Cost: 11224.00:  40%|████      | 20/50 [00:11<00:25,  1.16it/s]"
     ]
    },
    {
     "name": "stdout",
     "output_type": "stream",
     "text": [
      "Episode 20 | Reward: 12573.27 | ServedDemand: 23797.27 | Reb. Cost: 11224.00\n",
      "Episode 21 | Reward: 1477.50 | ServedDemand: 1477.50 | Reb. Cost: 0.00\n"
     ]
    },
    {
     "name": "stderr",
     "output_type": "stream",
     "text": [
      "Episode 21 | Reward: 15473.54 | ServedDemand: 25669.54 | Reb. Cost: 10196.00:  42%|████▏     | 21/50 [00:12<00:24,  1.18it/s]"
     ]
    },
    {
     "name": "stdout",
     "output_type": "stream",
     "text": [
      "Episode 21 | Reward: 15473.54 | ServedDemand: 25669.54 | Reb. Cost: 10196.00\n",
      "Episode 22 | Reward: 1540.10 | ServedDemand: 1540.10 | Reb. Cost: 0.00\n"
     ]
    },
    {
     "name": "stderr",
     "output_type": "stream",
     "text": [
      "Episode 22 | Reward: 15975.01 | ServedDemand: 26387.01 | Reb. Cost: 10412.00:  44%|████▍     | 22/50 [00:13<00:23,  1.17it/s]"
     ]
    },
    {
     "name": "stdout",
     "output_type": "stream",
     "text": [
      "Episode 22 | Reward: 15975.01 | ServedDemand: 26387.01 | Reb. Cost: 10412.00\n",
      "Episode 23 | Reward: 1941.60 | ServedDemand: 1941.60 | Reb. Cost: 0.00\n"
     ]
    },
    {
     "name": "stderr",
     "output_type": "stream",
     "text": [
      "Episode 23 | Reward: 15062.52 | ServedDemand: 25456.52 | Reb. Cost: 10394.00:  46%|████▌     | 23/50 [00:13<00:23,  1.16it/s]"
     ]
    },
    {
     "name": "stdout",
     "output_type": "stream",
     "text": [
      "Episode 23 | Reward: 15062.52 | ServedDemand: 25456.52 | Reb. Cost: 10394.00\n",
      "Episode 24 | Reward: 1696.60 | ServedDemand: 1696.60 | Reb. Cost: 0.00\n"
     ]
    },
    {
     "name": "stderr",
     "output_type": "stream",
     "text": [
      "Episode 24 | Reward: 15245.65 | ServedDemand: 24757.65 | Reb. Cost: 9512.00:  48%|████▊     | 24/50 [00:14<00:22,  1.15it/s] "
     ]
    },
    {
     "name": "stdout",
     "output_type": "stream",
     "text": [
      "Episode 24 | Reward: 15245.65 | ServedDemand: 24757.65 | Reb. Cost: 9512.00\n",
      "Episode 25 | Reward: 1364.70 | ServedDemand: 1364.70 | Reb. Cost: 0.00\n"
     ]
    },
    {
     "name": "stderr",
     "output_type": "stream",
     "text": [
      "Episode 25 | Reward: 14419.83 | ServedDemand: 25333.83 | Reb. Cost: 10914.00:  50%|█████     | 25/50 [00:15<00:21,  1.16it/s]"
     ]
    },
    {
     "name": "stdout",
     "output_type": "stream",
     "text": [
      "Episode 25 | Reward: 14419.83 | ServedDemand: 25333.83 | Reb. Cost: 10914.00\n",
      "Episode 26 | Reward: 1596.10 | ServedDemand: 1596.10 | Reb. Cost: 0.00\n"
     ]
    },
    {
     "name": "stderr",
     "output_type": "stream",
     "text": [
      "Episode 26 | Reward: 10460.40 | ServedDemand: 22098.40 | Reb. Cost: 11638.00:  52%|█████▏    | 26/50 [00:16<00:21,  1.14it/s]"
     ]
    },
    {
     "name": "stdout",
     "output_type": "stream",
     "text": [
      "Episode 26 | Reward: 10460.40 | ServedDemand: 22098.40 | Reb. Cost: 11638.00\n",
      "Episode 27 | Reward: 1355.30 | ServedDemand: 1355.30 | Reb. Cost: 0.00\n"
     ]
    },
    {
     "name": "stderr",
     "output_type": "stream",
     "text": [
      "Episode 27 | Reward: 13803.18 | ServedDemand: 24883.18 | Reb. Cost: 11080.00:  54%|█████▍    | 27/50 [00:17<00:20,  1.15it/s]"
     ]
    },
    {
     "name": "stdout",
     "output_type": "stream",
     "text": [
      "Episode 27 | Reward: 13803.18 | ServedDemand: 24883.18 | Reb. Cost: 11080.00\n",
      "Episode 28 | Reward: 1364.40 | ServedDemand: 1364.40 | Reb. Cost: 0.00\n"
     ]
    },
    {
     "name": "stderr",
     "output_type": "stream",
     "text": [
      "Episode 28 | Reward: 15904.49 | ServedDemand: 26058.49 | Reb. Cost: 10154.00:  56%|█████▌    | 28/50 [00:18<00:19,  1.11it/s]"
     ]
    },
    {
     "name": "stdout",
     "output_type": "stream",
     "text": [
      "Episode 28 | Reward: 15904.49 | ServedDemand: 26058.49 | Reb. Cost: 10154.00\n",
      "Episode 29 | Reward: 1617.30 | ServedDemand: 1617.30 | Reb. Cost: 0.00\n"
     ]
    },
    {
     "name": "stderr",
     "output_type": "stream",
     "text": [
      "Episode 29 | Reward: 11212.81 | ServedDemand: 22648.81 | Reb. Cost: 11436.00:  58%|█████▊    | 29/50 [00:19<00:18,  1.16it/s]"
     ]
    },
    {
     "name": "stdout",
     "output_type": "stream",
     "text": [
      "Episode 29 | Reward: 11212.81 | ServedDemand: 22648.81 | Reb. Cost: 11436.00\n",
      "Episode 30 | Reward: 1770.80 | ServedDemand: 1770.80 | Reb. Cost: 0.00\n"
     ]
    },
    {
     "name": "stderr",
     "output_type": "stream",
     "text": [
      "Episode 30 | Reward: 17185.19 | ServedDemand: 27101.19 | Reb. Cost: 9916.00:  60%|██████    | 30/50 [00:20<00:17,  1.14it/s] "
     ]
    },
    {
     "name": "stdout",
     "output_type": "stream",
     "text": [
      "Episode 30 | Reward: 17185.19 | ServedDemand: 27101.19 | Reb. Cost: 9916.00\n",
      "Episode 31 | Reward: 1757.90 | ServedDemand: 1757.90 | Reb. Cost: 0.00\n"
     ]
    },
    {
     "name": "stderr",
     "output_type": "stream",
     "text": [
      "Episode 31 | Reward: 12228.46 | ServedDemand: 23408.46 | Reb. Cost: 11180.00:  62%|██████▏   | 31/50 [00:20<00:16,  1.14it/s]"
     ]
    },
    {
     "name": "stdout",
     "output_type": "stream",
     "text": [
      "Episode 31 | Reward: 12228.46 | ServedDemand: 23408.46 | Reb. Cost: 11180.00\n",
      "Episode 32 | Reward: 1368.80 | ServedDemand: 1368.80 | Reb. Cost: 0.00\n"
     ]
    },
    {
     "name": "stderr",
     "output_type": "stream",
     "text": [
      "Episode 32 | Reward: 13818.32 | ServedDemand: 24152.32 | Reb. Cost: 10334.00:  64%|██████▍   | 32/50 [00:21<00:15,  1.13it/s]"
     ]
    },
    {
     "name": "stdout",
     "output_type": "stream",
     "text": [
      "Episode 32 | Reward: 13818.32 | ServedDemand: 24152.32 | Reb. Cost: 10334.00\n",
      "Episode 33 | Reward: 1952.40 | ServedDemand: 1952.40 | Reb. Cost: 0.00\n"
     ]
    },
    {
     "name": "stderr",
     "output_type": "stream",
     "text": [
      "Episode 33 | Reward: 14105.29 | ServedDemand: 24925.29 | Reb. Cost: 10820.00:  66%|██████▌   | 33/50 [00:22<00:15,  1.13it/s]"
     ]
    },
    {
     "name": "stdout",
     "output_type": "stream",
     "text": [
      "Episode 33 | Reward: 14105.29 | ServedDemand: 24925.29 | Reb. Cost: 10820.00\n",
      "Episode 34 | Reward: 1487.20 | ServedDemand: 1487.20 | Reb. Cost: 0.00\n"
     ]
    },
    {
     "name": "stderr",
     "output_type": "stream",
     "text": [
      "Episode 34 | Reward: 12169.77 | ServedDemand: 23443.77 | Reb. Cost: 11274.00:  68%|██████▊   | 34/50 [00:23<00:13,  1.17it/s]"
     ]
    },
    {
     "name": "stdout",
     "output_type": "stream",
     "text": [
      "Episode 34 | Reward: 12169.77 | ServedDemand: 23443.77 | Reb. Cost: 11274.00\n",
      "Episode 35 | Reward: 2015.40 | ServedDemand: 2015.40 | Reb. Cost: 0.00\n"
     ]
    },
    {
     "name": "stderr",
     "output_type": "stream",
     "text": [
      "Episode 35 | Reward: 14119.04 | ServedDemand: 24929.04 | Reb. Cost: 10810.00:  70%|███████   | 35/50 [00:24<00:12,  1.18it/s]"
     ]
    },
    {
     "name": "stdout",
     "output_type": "stream",
     "text": [
      "Episode 35 | Reward: 14119.04 | ServedDemand: 24929.04 | Reb. Cost: 10810.00\n",
      "Episode 36 | Reward: 1854.60 | ServedDemand: 1854.60 | Reb. Cost: 0.00\n"
     ]
    },
    {
     "name": "stderr",
     "output_type": "stream",
     "text": [
      "Episode 36 | Reward: 16606.47 | ServedDemand: 26746.47 | Reb. Cost: 10140.00:  72%|███████▏  | 36/50 [00:25<00:11,  1.19it/s]"
     ]
    },
    {
     "name": "stdout",
     "output_type": "stream",
     "text": [
      "Episode 36 | Reward: 16606.47 | ServedDemand: 26746.47 | Reb. Cost: 10140.00\n",
      "Episode 37 | Reward: 1593.70 | ServedDemand: 1593.70 | Reb. Cost: 0.00\n"
     ]
    },
    {
     "name": "stderr",
     "output_type": "stream",
     "text": [
      "Episode 37 | Reward: 11913.63 | ServedDemand: 23293.63 | Reb. Cost: 11380.00:  74%|███████▍  | 37/50 [00:26<00:11,  1.15it/s]"
     ]
    },
    {
     "name": "stdout",
     "output_type": "stream",
     "text": [
      "Episode 37 | Reward: 11913.63 | ServedDemand: 23293.63 | Reb. Cost: 11380.00\n",
      "Episode 38 | Reward: 1617.30 | ServedDemand: 1617.30 | Reb. Cost: 0.00\n"
     ]
    },
    {
     "name": "stderr",
     "output_type": "stream",
     "text": [
      "Episode 38 | Reward: 15226.60 | ServedDemand: 25366.60 | Reb. Cost: 10140.00:  76%|███████▌  | 38/50 [00:27<00:10,  1.12it/s]"
     ]
    },
    {
     "name": "stdout",
     "output_type": "stream",
     "text": [
      "Episode 38 | Reward: 15226.60 | ServedDemand: 25366.60 | Reb. Cost: 10140.00\n",
      "Episode 39 | Reward: 1715.50 | ServedDemand: 1715.50 | Reb. Cost: 0.00\n"
     ]
    },
    {
     "name": "stderr",
     "output_type": "stream",
     "text": [
      "Episode 39 | Reward: 14684.07 | ServedDemand: 25144.07 | Reb. Cost: 10460.00:  78%|███████▊  | 39/50 [00:28<00:09,  1.11it/s]"
     ]
    },
    {
     "name": "stdout",
     "output_type": "stream",
     "text": [
      "Episode 39 | Reward: 14684.07 | ServedDemand: 25144.07 | Reb. Cost: 10460.00\n",
      "Episode 40 | Reward: 1432.00 | ServedDemand: 1432.00 | Reb. Cost: 0.00\n"
     ]
    },
    {
     "name": "stderr",
     "output_type": "stream",
     "text": [
      "Episode 40 | Reward: 16683.29 | ServedDemand: 27091.29 | Reb. Cost: 10408.00:  80%|████████  | 40/50 [00:28<00:08,  1.14it/s]"
     ]
    },
    {
     "name": "stdout",
     "output_type": "stream",
     "text": [
      "Episode 40 | Reward: 16683.29 | ServedDemand: 27091.29 | Reb. Cost: 10408.00\n",
      "Episode 41 | Reward: 1521.80 | ServedDemand: 1521.80 | Reb. Cost: 0.00\n"
     ]
    },
    {
     "name": "stderr",
     "output_type": "stream",
     "text": [
      "Episode 41 | Reward: 17990.66 | ServedDemand: 27602.66 | Reb. Cost: 9612.00:  82%|████████▏ | 41/50 [00:29<00:07,  1.17it/s] "
     ]
    },
    {
     "name": "stdout",
     "output_type": "stream",
     "text": [
      "Episode 41 | Reward: 17990.66 | ServedDemand: 27602.66 | Reb. Cost: 9612.00\n",
      "Episode 42 | Reward: 1636.60 | ServedDemand: 1636.60 | Reb. Cost: 0.00\n"
     ]
    },
    {
     "name": "stderr",
     "output_type": "stream",
     "text": [
      "Episode 42 | Reward: 18716.73 | ServedDemand: 28058.73 | Reb. Cost: 9342.00:  84%|████████▍ | 42/50 [00:30<00:06,  1.16it/s]"
     ]
    },
    {
     "name": "stdout",
     "output_type": "stream",
     "text": [
      "Episode 42 | Reward: 18716.73 | ServedDemand: 28058.73 | Reb. Cost: 9342.00\n",
      "Episode 43 | Reward: 1694.00 | ServedDemand: 1694.00 | Reb. Cost: 0.00\n"
     ]
    },
    {
     "name": "stderr",
     "output_type": "stream",
     "text": [
      "Episode 43 | Reward: 18980.56 | ServedDemand: 27830.56 | Reb. Cost: 8850.00:  86%|████████▌ | 43/50 [00:31<00:06,  1.16it/s]"
     ]
    },
    {
     "name": "stdout",
     "output_type": "stream",
     "text": [
      "Episode 43 | Reward: 18980.56 | ServedDemand: 27830.56 | Reb. Cost: 8850.00\n",
      "Episode 44 | Reward: 1463.10 | ServedDemand: 1463.10 | Reb. Cost: 0.00\n"
     ]
    },
    {
     "name": "stderr",
     "output_type": "stream",
     "text": [
      "Episode 44 | Reward: 18019.18 | ServedDemand: 28157.18 | Reb. Cost: 10138.00:  88%|████████▊ | 44/50 [00:32<00:05,  1.17it/s]"
     ]
    },
    {
     "name": "stdout",
     "output_type": "stream",
     "text": [
      "Episode 44 | Reward: 18019.18 | ServedDemand: 28157.18 | Reb. Cost: 10138.00\n",
      "Episode 45 | Reward: 1554.10 | ServedDemand: 1554.10 | Reb. Cost: 0.00\n"
     ]
    },
    {
     "name": "stderr",
     "output_type": "stream",
     "text": [
      "Episode 45 | Reward: 14551.12 | ServedDemand: 25313.12 | Reb. Cost: 10762.00:  90%|█████████ | 45/50 [00:33<00:04,  1.16it/s]"
     ]
    },
    {
     "name": "stdout",
     "output_type": "stream",
     "text": [
      "Episode 45 | Reward: 14551.12 | ServedDemand: 25313.12 | Reb. Cost: 10762.00\n",
      "Episode 46 | Reward: 1896.10 | ServedDemand: 1896.10 | Reb. Cost: 0.00\n"
     ]
    },
    {
     "name": "stderr",
     "output_type": "stream",
     "text": [
      "Episode 46 | Reward: 17351.55 | ServedDemand: 27091.55 | Reb. Cost: 9740.00:  92%|█████████▏| 46/50 [00:33<00:03,  1.16it/s] "
     ]
    },
    {
     "name": "stdout",
     "output_type": "stream",
     "text": [
      "Episode 46 | Reward: 17351.55 | ServedDemand: 27091.55 | Reb. Cost: 9740.00\n",
      "Episode 47 | Reward: 1854.20 | ServedDemand: 1854.20 | Reb. Cost: 0.00\n"
     ]
    },
    {
     "name": "stderr",
     "output_type": "stream",
     "text": [
      "Episode 47 | Reward: 16563.66 | ServedDemand: 26815.66 | Reb. Cost: 10252.00:  94%|█████████▍| 47/50 [00:34<00:02,  1.13it/s]"
     ]
    },
    {
     "name": "stdout",
     "output_type": "stream",
     "text": [
      "Episode 47 | Reward: 16563.66 | ServedDemand: 26815.66 | Reb. Cost: 10252.00\n",
      "Episode 48 | Reward: 1754.50 | ServedDemand: 1754.50 | Reb. Cost: 0.00\n"
     ]
    },
    {
     "name": "stderr",
     "output_type": "stream",
     "text": [
      "Episode 48 | Reward: 19244.81 | ServedDemand: 28798.81 | Reb. Cost: 9554.00:  96%|█████████▌| 48/50 [00:35<00:01,  1.14it/s] "
     ]
    },
    {
     "name": "stdout",
     "output_type": "stream",
     "text": [
      "Episode 48 | Reward: 19244.81 | ServedDemand: 28798.81 | Reb. Cost: 9554.00\n",
      "Episode 49 | Reward: 1293.50 | ServedDemand: 1293.50 | Reb. Cost: 0.00\n"
     ]
    },
    {
     "name": "stderr",
     "output_type": "stream",
     "text": [
      "Episode 49 | Reward: 16183.08 | ServedDemand: 26675.08 | Reb. Cost: 10492.00:  98%|█████████▊| 49/50 [00:36<00:00,  1.14it/s]"
     ]
    },
    {
     "name": "stdout",
     "output_type": "stream",
     "text": [
      "Episode 49 | Reward: 16183.08 | ServedDemand: 26675.08 | Reb. Cost: 10492.00\n",
      "Episode 50 | Reward: 1412.90 | ServedDemand: 1412.90 | Reb. Cost: 0.00\n"
     ]
    },
    {
     "name": "stderr",
     "output_type": "stream",
     "text": [
      "Episode 50 | Reward: 17543.03 | ServedDemand: 27861.03 | Reb. Cost: 10318.00: 100%|██████████| 50/50 [00:37<00:00,  1.33it/s]"
     ]
    },
    {
     "name": "stdout",
     "output_type": "stream",
     "text": [
      "Episode 50 | Reward: 17543.03 | ServedDemand: 27861.03 | Reb. Cost: 10318.00\n"
     ]
    },
    {
     "name": "stderr",
     "output_type": "stream",
     "text": [
      "\n"
     ]
    }
   ],
   "source": [
    "from train import train\n",
    "config = {\n",
    "    \"simulator.name\": \"multi_macro\",\n",
    "    \"model.name\": \"sac\",\n",
    "    \"simulator.city\": \"nyc_brooklyn\",\n",
    "    \"model.cplexpath\": None, \n",
    "    \"model.checkpoint_path\": \"SAC_portion_2\",\n",
    "    \"model.max_episodes\": 50,\n",
    "    \"simulator.reuse_no_control\": False,\n",
    "    \"simulator.firm_count\": 2,\n",
    "    \"simulator.agents_know_partial_demand\": True,\n",
    "    \"simulator.constant_vehicle_count\": True,\n",
    "    \"simulator.demand_filter_type\": \"portion\" \n",
    "}\n",
    "train(config)"
   ]
  },
  {
   "cell_type": "code",
   "execution_count": 28,
   "metadata": {},
   "outputs": [
    {
     "name": "stderr",
     "output_type": "stream",
     "text": [
      "  0%|          | 0/2 [00:00<?, ?it/s]"
     ]
    },
    {
     "name": "stdout",
     "output_type": "stream",
     "text": [
      "The autoreload extension is already loaded. To reload it, use:\n",
      "  %reload_ext autoreload\n",
      "Testing model sac on multi_macro environment\n",
      "Using price model: exogenous\n",
      "Using initial vehicle distribution: None\n"
     ]
    },
    {
     "name": "stderr",
     "output_type": "stream",
     "text": [
      "Test Episode 2 | Reward: 25617.64 | ServedDemand: 31233.64 | Reb. Cost: 5616.00: 100%|██████████| 2/2 [00:00<00:00,  3.25it/s]\n",
      "  0%|          | 0/2 [00:00<?, ?it/s]"
     ]
    },
    {
     "name": "stdout",
     "output_type": "stream",
     "text": [
      "Saved full vehicle distribution to saved_files/vehicle_distribution_20250828-115600_sac_supply_factor_2_firm_count_2_dm_portion.json\n",
      "Mean Episode Profit ($):  25380.51030384466\n",
      "Mean Episode Served Demand- Proit($):  31036.51030384466\n",
      "Mean Episode Rebalancing Cost($):  5656.0\n",
      "Testing model equal_distribution on multi_macro environment\n",
      "Using price model: exogenous\n",
      "Using initial vehicle distribution: None\n"
     ]
    },
    {
     "name": "stderr",
     "output_type": "stream",
     "text": [
      "Test Episode 2 | Reward: 24641.51 | ServedDemand: 29785.51 | Reb. Cost: 5144.00: 100%|██████████| 2/2 [00:00<00:00,  3.94it/s]\n",
      "  0%|          | 0/2 [00:00<?, ?it/s]"
     ]
    },
    {
     "name": "stdout",
     "output_type": "stream",
     "text": [
      "Saved full vehicle distribution to saved_files/vehicle_distribution_20250828-115600_equal_distribution_supply_factor_2_firm_count_2_dm_portion.json\n",
      "Mean Episode Profit ($):  24136.931904715995\n",
      "Mean Episode Served Demand- Proit($):  29295.931904715995\n",
      "Mean Episode Rebalancing Cost($):  5159.0\n",
      "Testing model random on multi_macro environment\n",
      "Using price model: exogenous\n",
      "Using initial vehicle distribution: None\n"
     ]
    },
    {
     "name": "stderr",
     "output_type": "stream",
     "text": [
      "Test Episode 2 | Reward: 18023.88 | ServedDemand: 27597.88 | Reb. Cost: 9574.00: 100%|██████████| 2/2 [00:00<00:00,  4.17it/s] \n",
      "Test Episode 2 | Reward: 12274.13 | ServedDemand: 12274.13 | Reb. Cost: 0.00:  20%|██        | 2/10 [00:00<00:00, 12.39it/s]"
     ]
    },
    {
     "name": "stdout",
     "output_type": "stream",
     "text": [
      "Saved full vehicle distribution to saved_files/vehicle_distribution_20250828-115600_random_supply_factor_2_firm_count_2_dm_portion.json\n",
      "Mean Episode Profit ($):  15546.353130497755\n",
      "Mean Episode Served Demand- Proit($):  25721.35313049775\n",
      "Mean Episode Rebalancing Cost($):  10175.0\n",
      "No control performance not found. Calculating (this happens only the first time on a new environment)...\n"
     ]
    },
    {
     "name": "stderr",
     "output_type": "stream",
     "text": [
      "Test Episode 10 | Reward: 12428.11 | ServedDemand: 12428.11 | Reb. Cost: 0.00: 100%|██████████| 10/10 [00:00<00:00, 11.90it/s]\n"
     ]
    },
    {
     "name": "stdout",
     "output_type": "stream",
     "text": [
      "No control performance calculated. Saving in ./src/envs/data/multi_macro/nyc_brooklyn_no_control_performance.json...\n",
      "/home/gaby/Documents/UCB/AAM/GIT/sastryrepo/Dynamic-Routing-with-Competition\n"
     ]
    },
    {
     "data": {
      "image/png": "[encoded data removed]",
      "text/plain": [
       "<Figure size 1080x360 with 3 Axes>"
      ]
     },
     "metadata": {
      "needs_background": "light"
     },
     "output_type": "display_data"
    }
   ],
   "source": [
    "%load_ext autoreload\n",
    "%autoreload 2\n",
    "import sys\n",
    "if 'testing' in sys.modules:\n",
    "    del sys.modules['testing']\n",
    "\n",
    "import testing\n",
    "importlib.reload(testing)\n",
    "config = {\n",
    "    \"simulator.name\": \"multi_macro\",\n",
    "    \"model.name\": [\"sac\", \"equal_distribution\", \"random\"],\n",
    "    \"simulator.city\": \"nyc_brooklyn\", \n",
    "    \"model.cplexpath\": None, \n",
    "    \"model.test_episodes\": 2,\n",
    "    \"model.checkpoint_path\": \"SAC_portion_2\",\n",
    "    \"simulator.reuse_no_control\": False,\n",
    "    \"simulator.firm_count\": 2,\n",
    "    \"simulator.agents_know_partial_demand\": True,\n",
    "    \"simulator.constant_vehicle_count\": True,\n",
    "    \"simulator.demand_filter_type\": \"portion\" \n",
    "}\n",
    "testing.multi_test(config)"
   ]
  },
  {
   "cell_type": "code",
   "execution_count": null,
   "metadata": {},
   "outputs": [],
   "source": [
    "%load_ext autoreload\n",
    "%autoreload 2\n",
    "import sys\n",
    "if 'testing' in sys.modules:\n",
    "    del sys.modules['testing']\n",
    "\n",
    "import testing\n",
    "importlib.reload(testing)\n",
    "config = {\n",
    "    \"simulator.name\": \"multi_macro\",\n",
    "    \"model.name\": [\"sac\", \"equal_distribution\", \"random\"],\n",
    "    \"simulator.city\": \"nyc_brooklyn\", \n",
    "    \"model.cplexpath\": None, \n",
    "    \"model.test_episodes\": 2,\n",
    "    \"model.checkpoint_path\": \"SAC_portion_2_test_train\",\n",
    "    \"simulator.reuse_no_control\": False,\n",
    "    \"simulator.firm_count\": 2,\n",
    "    \"simulator.agents_know_partial_demand\": True,\n",
    "    \"simulator.constant_vehicle_count\": True,\n",
    "    \"simulator.demand_filter_type\": \"portion\" \n",
    "}\n",
    "testing.multi_test(config)"
   ]
  },
  {
   "cell_type": "code",
   "execution_count": null,
   "metadata": {},
   "outputs": [],
   "source": [
    "from train import train\n",
    "config = {\n",
    "    \"simulator.name\": \"multi_macro\",\n",
    "    \"model.name\": \"sac\",\n",
    "    \"simulator.city\": \"nyc_brooklyn\",\n",
    "    \"model.cplexpath\": None, \n",
    "    \"model.checkpoint_path\": \"SAC_portion_3\",\n",
    "    \"model.max_episodes\": 50,\n",
    "    \"simulator.reuse_no_control\": False,\n",
    "    \"simulator.firm_count\": 3,\n",
    "    \"simulator.agents_know_partial_demand\": True,\n",
    "    \"simulator.constant_vehicle_count\": True,\n",
    "    \"simulator.demand_filter_type\": \"portion\" \n",
    "}\n",
    "train(config)"
   ]
  },
  {
   "cell_type": "code",
   "execution_count": null,
   "metadata": {},
   "outputs": [],
   "source": [
    "%load_ext autoreload\n",
    "%autoreload 2\n",
    "import sys\n",
    "if 'testing' in sys.modules:\n",
    "    del sys.modules['testing']\n",
    "\n",
    "import testing\n",
    "importlib.reload(testing)\n",
    "config = {\n",
    "    \"simulator.name\": \"multi_macro\",\n",
    "    \"model.name\": [\"sac\", \"equal_distribution\", \"random\"],\n",
    "    \"simulator.city\": \"nyc_brooklyn\", \n",
    "    \"model.cplexpath\": None, \n",
    "    \"model.test_episodes\": 10,\n",
    "    \"model.checkpoint_path\": \"SAC_portion_3\",\n",
    "    \"simulator.reuse_no_control\": False,\n",
    "    \"simulator.firm_count\": 3,\n",
    "    \"simulator.agents_know_partial_demand\": True,\n",
    "    \"simulator.constant_vehicle_count\": True,\n",
    "    \"simulator.demand_filter_type\": \"portion\" \n",
    "}\n",
    "testing.multi_test(config)"
   ]
  },
  {
   "cell_type": "code",
   "execution_count": null,
   "metadata": {},
   "outputs": [],
   "source": [
    "from train import train\n",
    "config = {\n",
    "    \"simulator.name\": \"multi_macro\",\n",
    "    \"model.name\": \"sac\",\n",
    "    \"simulator.city\": \"nyc_brooklyn\",\n",
    "    \"model.cplexpath\": None, \n",
    "    \"model.checkpoint_path\": \"SAC_portion_4\",\n",
    "    \"model.max_episodes\": 50,\n",
    "    \"simulator.reuse_no_control\": False,\n",
    "    \"simulator.firm_count\": 4,\n",
    "    \"simulator.agents_know_partial_demand\": True,\n",
    "    \"simulator.constant_vehicle_count\": True,\n",
    "    \"simulator.demand_filter_type\": \"portion\" \n",
    "}\n",
    "train(config)"
   ]
  },
  {
   "cell_type": "code",
   "execution_count": null,
   "metadata": {},
   "outputs": [],
   "source": [
    "%load_ext autoreload\n",
    "%autoreload 2\n",
    "import sys\n",
    "if 'testing' in sys.modules:\n",
    "    del sys.modules['testing']\n",
    "\n",
    "import testing\n",
    "importlib.reload(testing)\n",
    "config = {\n",
    "    \"simulator.name\": \"multi_macro\",\n",
    "    \"model.name\": [\"sac\", \"equal_distribution\", \"random\"],\n",
    "    \"simulator.city\": \"nyc_brooklyn\", \n",
    "    \"model.cplexpath\": None, \n",
    "    \"model.test_episodes\": 10,\n",
    "    \"model.checkpoint_path\": \"SAC_portion_4\",\n",
    "    \"simulator.reuse_no_control\": False,\n",
    "    \"simulator.firm_count\": 4,\n",
    "    \"simulator.agents_know_partial_demand\": True,\n",
    "    \"simulator.constant_vehicle_count\": True,\n",
    "    \"simulator.demand_filter_type\": \"portion\" \n",
    "}\n",
    "testing.multi_test(config)"
   ]
  },
  {
   "cell_type": "markdown",
   "metadata": {},
   "source": [
    "### Flow based / Constant Vehicle Count"
   ]
  },
  {
   "cell_type": "code",
   "execution_count": null,
   "metadata": {},
   "outputs": [],
   "source": [
    "from train import train\n",
    "config = {\n",
    "    \"simulator.name\": \"multi_macro\",\n",
    "    \"model.name\": \"sac\",\n",
    "    \"simulator.city\": \"nyc_brooklyn\",\n",
    "    \"model.cplexpath\": None, \n",
    "    \"model.checkpoint_path\": \"SAC_flow_2\",\n",
    "    \"model.max_episodes\": 50,\n",
    "    \"simulator.reuse_no_control\": False,\n",
    "    \"simulator.firm_count\": 2,\n",
    "    \"simulator.agents_know_partial_demand\": True,\n",
    "    \"simulator.constant_vehicle_count\": True,\n",
    "    \"simulator.demand_filter_type\": \"flow\"  # or portion\n",
    "}\n",
    "train(config)"
   ]
  },
  {
   "cell_type": "code",
   "execution_count": null,
   "metadata": {},
   "outputs": [],
   "source": [
    "%load_ext autoreload\n",
    "%autoreload 2\n",
    "import sys\n",
    "if 'testing' in sys.modules:\n",
    "    del sys.modules['testing']\n",
    "\n",
    "import testing\n",
    "importlib.reload(testing)\n",
    "config = {\n",
    "    \"simulator.name\": \"multi_macro\",\n",
    "    \"model.name\": [\"sac\", \"equal_distribution\", \"random\"],\n",
    "    \"simulator.city\": \"nyc_brooklyn\", \n",
    "    \"model.cplexpath\": None, \n",
    "    \"model.test_episodes\": 10,\n",
    "    \"model.checkpoint_path\": \"SAC_flow_2\",\n",
    "    \"simulator.reuse_no_control\": False,\n",
    "    \"simulator.firm_count\": 2,\n",
    "    \"simulator.agents_know_partial_demand\": True,\n",
    "    \"simulator.constant_vehicle_count\": True,\n",
    "    \"simulator.demand_filter_type\": \"flow\" \n",
    "}\n",
    "testing.multi_test(config)"
   ]
  },
  {
   "cell_type": "code",
   "execution_count": null,
   "metadata": {},
   "outputs": [],
   "source": [
    "from train import train\n",
    "config = {\n",
    "    \"simulator.name\": \"multi_macro\",\n",
    "    \"model.name\": \"sac\",\n",
    "    \"simulator.city\": \"nyc_brooklyn\",\n",
    "    \"model.cplexpath\": None, \n",
    "    \"model.checkpoint_path\": \"SAC_flow_3\",\n",
    "    \"model.max_episodes\": 50,\n",
    "    \"simulator.reuse_no_control\": False,\n",
    "    \"simulator.firm_count\": 3,\n",
    "    \"simulator.agents_know_partial_demand\": True,\n",
    "    \"simulator.constant_vehicle_count\": True,\n",
    "    \"simulator.demand_filter_type\": \"flow\" \n",
    "}\n",
    "train(config)"
   ]
  },
  {
   "cell_type": "code",
   "execution_count": null,
   "metadata": {},
   "outputs": [],
   "source": [
    "%load_ext autoreload\n",
    "%autoreload 2\n",
    "import sys\n",
    "if 'testing' in sys.modules:\n",
    "    del sys.modules['testing']\n",
    "\n",
    "import testing\n",
    "importlib.reload(testing)\n",
    "config = {\n",
    "    \"simulator.name\": \"multi_macro\",\n",
    "    \"model.name\": [\"sac\", \"equal_distribution\", \"random\"],\n",
    "    \"simulator.city\": \"nyc_brooklyn\", \n",
    "    \"model.cplexpath\": None, \n",
    "    \"model.test_episodes\": 10,\n",
    "    \"model.checkpoint_path\": \"SAC_flow_3\",\n",
    "    \"simulator.reuse_no_control\": False,\n",
    "    \"simulator.firm_count\": 3,\n",
    "    \"simulator.agents_know_partial_demand\": True,\n",
    "    \"simulator.constant_vehicle_count\": True,\n",
    "    \"simulator.demand_filter_type\": \"flow\" \n",
    "}\n",
    "testing.multi_test(config)"
   ]
  },
  {
   "cell_type": "code",
   "execution_count": null,
   "metadata": {},
   "outputs": [],
   "source": [
    "from train import train\n",
    "config = {\n",
    "    \"simulator.name\": \"multi_macro\",\n",
    "    \"model.name\": \"sac\",\n",
    "    \"simulator.city\": \"nyc_brooklyn\",\n",
    "    \"model.cplexpath\": None, \n",
    "    \"model.checkpoint_path\": \"SAC_flow_4\",\n",
    "    \"model.max_episodes\": 50,\n",
    "    \"simulator.reuse_no_control\": False,\n",
    "    \"simulator.firm_count\": 4,\n",
    "    \"simulator.agents_know_partial_demand\": True,\n",
    "    \"simulator.constant_vehicle_count\": True,\n",
    "    \"simulator.demand_filter_type\": \"flow\" \n",
    "}\n",
    "train(config)"
   ]
  },
  {
   "cell_type": "code",
   "execution_count": null,
   "metadata": {},
   "outputs": [],
   "source": [
    "%load_ext autoreload\n",
    "%autoreload 2\n",
    "import sys\n",
    "if 'testing' in sys.modules:\n",
    "    del sys.modules['testing']\n",
    "\n",
    "import testing\n",
    "importlib.reload(testing)\n",
    "config = {\n",
    "    \"simulator.name\": \"multi_macro\",\n",
    "    \"model.name\": [\"sac\", \"equal_distribution\", \"random\"],\n",
    "    \"simulator.city\": \"nyc_brooklyn\", \n",
    "    \"model.cplexpath\": None, \n",
    "    \"model.test_episodes\": 10,\n",
    "    \"model.checkpoint_path\": \"SAC_flow_4\",\n",
    "    \"simulator.reuse_no_control\": False,\n",
    "    \"simulator.firm_count\": 4,\n",
    "    \"simulator.agents_know_partial_demand\": True,\n",
    "    \"simulator.constant_vehicle_count\": True,\n",
    "    \"simulator.demand_filter_type\": \"flow\" \n",
    "}\n",
    "testing.multi_test(config)"
   ]
  },
  {
   "cell_type": "markdown",
   "metadata": {},
   "source": [
    "### Portion based / Testing Random initial distribution - No retraining"
   ]
  },
  {
   "cell_type": "code",
   "execution_count": null,
   "metadata": {},
   "outputs": [],
   "source": [
    "import importlib\n",
    "import testing\n",
    "import warnings\n",
    "warnings.filterwarnings(\"ignore\")\n",
    "importlib.reload(testing)"
   ]
  },
  {
   "cell_type": "code",
   "execution_count": null,
   "metadata": {},
   "outputs": [],
   "source": [
    "%load_ext autoreload\n",
    "%autoreload 2\n",
    "import sys\n",
    "if 'testing' in sys.modules:\n",
    "    del sys.modules['testing']\n",
    "\n",
    "import testing\n",
    "importlib.reload(testing)\n",
    "config = {\n",
    "    \"simulator.name\": \"multi_macro\",\n",
    "    \"model.name\": [\"sac\", \"equal_distribution\", \"random\"],\n",
    "    # \"model.name\": [\"sac\"],\n",
    "    \"simulator.city\": \"nyc_brooklyn\", \n",
    "    \"model.cplexpath\": None, \n",
    "    \"model.test_episodes\": 1,\n",
    "    \"model.checkpoint_path\": \"SAC_portion_2\",\n",
    "    \"simulator.reuse_no_control\": False,\n",
    "    \"simulator.firm_count\": 2,\n",
    "    \"simulator.agents_know_partial_demand\": True,\n",
    "    \"simulator.constant_vehicle_count\": True,\n",
    "    \"simulator.demand_filter_type\": \"portion\" ,\n",
    "    # \"simulator.initial_vehicle_distribution_method\": \"random\", # or None\n",
    "    \"simulator.pricing_model\": \"cournot\"\n",
    "}\n",
    "testing.multi_test(config)"
   ]
  },
  {
   "cell_type": "markdown",
   "metadata": {},
   "source": [
    "## Visualization"
   ]
  },
  {
   "cell_type": "markdown",
   "metadata": {},
   "source": [
    "This is an initial plot of the scenario demand data"
   ]
  },
  {
   "cell_type": "code",
   "execution_count": null,
   "metadata": {},
   "outputs": [],
   "source": [
    "import importlib\n",
    "import testing\n",
    "import warnings\n",
    "warnings.filterwarnings(\"ignore\")\n",
    "importlib.reload(testing)"
   ]
  },
  {
   "cell_type": "markdown",
   "metadata": {},
   "source": [
    "To use the code below all you have to do is specify the vehicle distribution file after running testing and the demand file, usually have the same timestamp. Make sure you use the scenario you ran the testing on. "
   ]
  },
  {
   "cell_type": "code",
   "execution_count": null,
   "metadata": {},
   "outputs": [],
   "source": [
    "import json\n",
    "import matplotlib.pyplot as plt\n",
    "import matplotlib.patches as mpatches\n",
    "import numpy as np\n",
    "import os\n",
    "import networkx as nx\n",
    "import pandas as pd\n",
    "from collections import defaultdict\n",
    "import matplotlib.cm as cm\n",
    "import matplotlib.colors as mcolors\n",
    "import matplotlib.patches as mpatches\n",
    "\n",
    "\n",
    "# historical\n",
    "current_folder = os.path.dirname(os.path.abspath(__file__)) if '__file__' in globals() else os.getcwd()\n",
    "with open(f\"{current_folder}/src/envs/data/multi_macro/scenario_nyc_brooklyn.json\", \"r\") as f:\n",
    "    data = json.load(f)\n",
    "\n",
    "\n",
    "all_nodes = sorted(set(edge[\"i\"] for edge in data[\"topology_graph\"]) | set(edge[\"j\"] for edge in data[\"topology_graph\"]))\n",
    "all_edges = [(edge[\"i\"], edge[\"j\"]) for edge in data[\"topology_graph\"]]\n",
    "print(\"Total number of nodes:\", len(all_nodes), \"Total number of edges:\", len(all_edges))\n",
    "# nlat = data[\"nlat\"]\n",
    "# nlon = data[\"nlon\"]\n",
    "nlat = 4\n",
    "nlon = 4\n",
    "pos = {i: (i % nlon, nlat - i // nlon) for i in all_nodes}\n",
    "\n",
    "df = pd.DataFrame(data[\"demand\"])\n",
    "min_time = df[\"time_stamp\"].min()\n",
    "max_time = df[\"time_stamp\"].max()\n",
    "n_timesteps = df[\"time_stamp\"].nunique()\n",
    "\n",
    "print(\"Number of timesteps:\", n_timesteps)\n",
    "print(\"First timestep:\", min_time)\n",
    "print(\"Last timestep:\", max_time)\n",
    "\n",
    "\n",
    "timestep = min_time  \n",
    "df_t = df[df[\"time_stamp\"] == timestep].copy()\n",
    "\n",
    "# print(f\"\\nDemand data at timestep {timestep}:\")\n",
    "# print(df_t[[\"origin\", \"destination\", \"demand\", \"price\", \"travel_time\"]])\n",
    "\n",
    "G = nx.DiGraph()\n",
    "G.add_nodes_from(all_nodes)\n",
    "\n",
    "# Filter timestep\n",
    "df_t = df[df[\"time_stamp\"] == timestep]\n",
    "active_edges = df_t[[\"origin\", \"destination\"]].values.tolist()\n",
    "G.add_edges_from(active_edges)\n",
    "print(f\"Number of active edges at timestep {timestep}: {len(active_edges)}\")\n",
    "\n",
    "edge_demand = {(row[\"origin\"], row[\"destination\"]): row[\"demand\"] for _, row in df_t.iterrows()}\n",
    "edges = list(edge_demand.keys())\n",
    "demands = list(edge_demand.values())\n",
    "norm = mcolors.Normalize(vmin=min(demands), vmax=max(demands))\n",
    "cmap = cm.tab20b # viridis, plasma, inferno, etc.\n",
    "edge_colors = [cmap(norm(d)) for d in demands]\n",
    "\n",
    "\n",
    "# ---- getting the sampled demadn\n",
    "json_hr = 19  \n",
    "json_tstep = 4  \n",
    "\n",
    "json_start = json_hr * 60  # base time in minutes\n",
    "print(f\"json_start: {json_start}, json_tstep: {json_tstep}\")\n",
    "\n",
    "with open(f\"{current_folder}/saved_files/sample_demand_20250805-132751_supply_factor_2_firm_count_2_dm_portion.json\", \"r\") as f:\n",
    "    sampled_data = json.load(f)\n",
    "df_sampled = pd.DataFrame(sampled_data, columns=[\"origin\", \"destination\", \"time_stamp\", \"sampled_demand\", \"sampled_price\"])\n",
    "\n",
    "df_sampled[\"time_stamp\"] = df_sampled[\"time_stamp\"] * json_tstep + json_start\n",
    "df_sampled[\"time_stamp\"] = df_sampled[\"time_stamp\"].astype(int)\n",
    "df_sampled = df_sampled[df_sampled[\"sampled_demand\"] != 0]\n",
    "df_t_sampled = df_sampled[df_sampled[\"time_stamp\"] == timestep]\n",
    "# print(df_sampled)\n",
    "current_demand_edges = df_t_sampled[[\"origin\", \"destination\"]].values.tolist()\n",
    "\n",
    "G_sampled = nx.DiGraph()\n",
    "G_sampled.add_nodes_from(all_nodes)\n",
    "G_sampled.add_edges_from(current_demand_edges)\n",
    "\n",
    "print(f\"Number of active sampled edges at timestep {timestep}: {len(current_demand_edges)}\")\n",
    "\n",
    "edge_demand_sampled = {(row[\"origin\"], row[\"destination\"]): row[\"sampled_demand\"] for _, row in df_t_sampled.iterrows()}\n",
    "edges_sampled = list(edge_demand_sampled.keys())\n",
    "demands_sampled = list(edge_demand_sampled.values())\n",
    "norm_sampled = mcolors.Normalize(vmin=min(demands_sampled ), vmax=max(demands_sampled ))\n",
    "cmap = cm.tab20b \n",
    "edge_colors_sampled = [cmap(norm_sampled(d)) for d in demands_sampled]\n",
    "\n",
    "\n",
    "# --- getting the vehicle distribution\n",
    "with open(f\"{current_folder}/saved_files/vehicle_distribution_20250811-133506_sac_supply_factor_2_firm_count_2_dm_portion.json\", \"r\") as f:\n",
    "    vehicle_distribution= json.load(f)\n",
    "vehicle_distribution = {int(t): {int(k): v for k, v in v.items()} for t, v in vehicle_distribution.items()}\n",
    "\n",
    "# Function to find the corresponding vehicle snapshot timestep\n",
    "def get_vehicle_timestep(minute, json_start, json_tstep):\n",
    "    return (minute - json_start) // json_tstep\n",
    "\n",
    "vehicle_time_idx = get_vehicle_timestep(timestep, json_start=json_start, json_tstep=json_tstep)\n",
    "vehicle_counts = vehicle_distribution.get(vehicle_time_idx, {})\n",
    "\n",
    "\n",
    "\n",
    "# ----- plotting both\n",
    "\n",
    "fig, axs = plt.subplots(1, 2, figsize=(24, 10), facecolor=\"white\")\n",
    "nx.draw_networkx_nodes(G, pos, node_size=400, node_color=\"lightblue\", ax=axs[0])\n",
    "nx.draw_networkx_labels(G, pos, ax=axs[0])\n",
    "nx.draw_networkx_edges(G, pos, edgelist=edge_demand.keys(), edge_color=edge_colors, width=2, arrows=True, ax=axs[0])\n",
    "sm_hist = plt.cm.ScalarMappable(cmap=cmap, norm=norm)\n",
    "sm_hist.set_array([])\n",
    "cbar = plt.colorbar(sm_hist, ax=axs[0], shrink=0.8)\n",
    "cbar.set_label(\"Demand\")\n",
    "axs[0].set_title(f\"Historical Demand - Timestep {timestep}\")\n",
    "axs[0].axis(\"off\")\n",
    "\n",
    "# plt.figure(figsize=(14,10), facecolor=\"white\") \n",
    "# ax = plt.gca()\n",
    "\n",
    "# nx.draw_networkx_nodes(G, pos, node_size=400, node_color=\"lightblue\")\n",
    "# nx.draw_networkx_labels(G, pos)\n",
    "# nx.draw_networkx_edges(G, pos, width=2, arrowsize=14,\n",
    "#                        edgelist=edges, edge_color=edge_colors, arrows=True, ax=ax)\n",
    "\n",
    "# sm = plt.cm.ScalarMappable(cmap=cmap, norm=norm)\n",
    "# sm.set_array([])\n",
    "# cbar = plt.colorbar(sm, ax= ax, shrink=0.8)\n",
    "# cbar.set_label('Demand')\n",
    "# plt.title(f\"Historical - Demand Edges at Timestep {timestep}\")\n",
    "# plt.axis(\"off\")\n",
    "# plt.show()\n",
    "\n",
    "nx.draw_networkx_nodes(G_sampled, pos, node_size=400, node_color=\"lightblue\", ax=axs[1])\n",
    "nx.draw_networkx_labels(G_sampled, pos, ax=axs[1])\n",
    "nx.draw_networkx_edges(G_sampled, pos, edgelist=edges_sampled, edge_color=edge_colors_sampled, width=2, arrows=True, ax=axs[1])\n",
    "sm_sampled = plt.cm.ScalarMappable(cmap=cmap, norm=norm_sampled)\n",
    "sm_sampled.set_array([])\n",
    "cbar = plt.colorbar(sm_sampled, ax=axs[1], shrink=0.8)\n",
    "cbar.set_label(\"Demand\")\n",
    "axs[1].set_title(f\"Sampled Demand - Timestep {timestep}\")\n",
    "axs[1].axis(\"off\")\n",
    "\n",
    "\n",
    "for node, count in vehicle_counts.items():\n",
    "    if count > 0:\n",
    "        axs[1].text(\n",
    "            pos[node][0] + 0.15,  # x-offset from node\n",
    "            pos[node][1] + 0.15,  # y-offset from node\n",
    "            f\"{int(count)}\",      # label text\n",
    "            fontsize=12,\n",
    "            bbox=dict(boxstyle=\"round,pad=0.5\", fc=\"yellow\", alpha=0.6),\n",
    "            ha='center'\n",
    "        )\n",
    "\n",
    "vehicle_patch = mpatches.Patch(\n",
    "    facecolor='yellow',\n",
    "    edgecolor='black',\n",
    "    alpha=0.6,\n",
    "    label='Vehicle Count'\n",
    ")\n",
    "\n",
    "axs[1].legend(handles=[vehicle_patch], loc='lower right', fontsize=12)\n",
    "\n",
    "plt.tight_layout()\n",
    "plt.show()\n",
    "\n",
    "\n",
    "\n",
    "# plt.figure(figsize=(14, 10), facecolor=\"white\") \n",
    "# ax = plt.gca()\n",
    "\n",
    "# nx.draw_networkx_nodes(G_sampled, pos, node_size=400, node_color=\"lightblue\")\n",
    "# nx.draw_networkx_labels(G_sampled, pos)\n",
    "# nx.draw_networkx_edges(G_sampled, pos, width=2, arrowsize=14,\n",
    "#                        edgelist=edges_sampled, edge_color=edge_colors_sampled, arrows=True, ax=ax)\n",
    "\n",
    "# sm = plt.cm.ScalarMappable(cmap=cmap, norm=norm)\n",
    "# sm.set_array([])\n",
    "# cbar = plt.colorbar(sm, ax=ax, shrink=0.8)\n",
    "# cbar.set_label('Demand')\n",
    "# plt.title(f\"Sampled Demand Edges at Timestep {timestep}\")\n",
    "# plt.axis(\"off\")\n",
    "# plt.show()"
   ]
  },
  {
   "cell_type": "code",
   "execution_count": null,
   "metadata": {},
   "outputs": [],
   "source": [
    "df_summary = pd.merge(\n",
    "    df_t[[\"origin\", \"destination\", \"demand\", \"price\"]],\n",
    "    df_t_sampled[[\"origin\", \"destination\", \"sampled_demand\", \"sampled_price\"]],\n",
    "    how=\"outer\", on=[\"origin\", \"destination\"]\n",
    ").fillna(0)\n",
    "print(df_summary)"
   ]
  },
  {
   "cell_type": "code",
   "execution_count": null,
   "metadata": {},
   "outputs": [],
   "source": [
    "from IPython.display import HTML\n",
    "\n",
    "df_summary_total = pd.merge(\n",
    "    df[[\"time_stamp\", \"origin\", \"destination\", \"demand\", \"price\", \"travel_time\"]],\n",
    "    df_sampled[[\"time_stamp\",\"origin\", \"destination\", \"sampled_demand\", \"sampled_price\"]],\n",
    "    how=\"outer\", on=[\"time_stamp\",\"origin\", \"destination\"]\n",
    ").fillna(0)\n",
    "display(HTML('<div style=\"height:400px; overflow:auto;\">' + df_summary_total.to_html() + '</div>'))\n",
    "\n"
   ]
  },
  {
   "cell_type": "code",
   "execution_count": null,
   "metadata": {},
   "outputs": [],
   "source": [
    "for t in range(len(vehicle_distribution)): \n",
    "    start_minute = json_start + t * json_tstep\n",
    "    end_minute = start_minute + json_tstep\n",
    "\n",
    "    # Filter and aggregate demand between [start_minute, end_minute)\n",
    "    df_t = df[(df[\"time_stamp\"] >= start_minute) & (df[\"time_stamp\"] < end_minute)].copy()\n",
    "    edge_demand = df_t.groupby([\"origin\", \"destination\"])[\"demand\"].sum().to_dict()\n",
    "    edges = list(edge_demand.keys())\n",
    "    demands = list(edge_demand.values())\n",
    "    \n",
    "\n",
    "    norm = mcolors.Normalize(vmin=min(demands), vmax=max(demands)) if demands else mcolors.Normalize(vmin=0, vmax=1)\n",
    "    edge_colors = [cmap(norm(d)) for d in demands] if demands else []\n",
    "\n",
    "    # Sampled demand (already in the same timestep format)\n",
    "    df_t_sampled = df_sampled[df_sampled[\"time_stamp\"] == start_minute]\n",
    "    edge_demand_sampled = {(row[\"origin\"], row[\"destination\"]): row[\"sampled_demand\"] for _, row in df_t_sampled.iterrows()}\n",
    "    edges_sampled = list(edge_demand_sampled.keys())\n",
    "    demands_sampled = list(edge_demand_sampled.values())\n",
    "    \n",
    "\n",
    "    norm_sampled = mcolors.Normalize(vmin=min(demands_sampled), vmax=max(demands_sampled)) if demands_sampled else mcolors.Normalize(vmin=0, vmax=1)\n",
    "    edge_colors_sampled = [cmap(norm_sampled(d)) for d in demands_sampled] if demands_sampled else []\n",
    "\n",
    "    vehicle_counts = vehicle_distribution.get(t, {})\n",
    "    \n",
    "\n",
    "    # Plotting\n",
    "    fig, axs = plt.subplots(1, 2, figsize=(10, 6), facecolor=\"white\")\n",
    "\n",
    "    # Historical demand (aggregated over the timestep)\n",
    "    G.clear()\n",
    "    G.add_nodes_from(all_nodes)\n",
    "    G.add_edges_from(edges)\n",
    "    nx.draw_networkx_nodes(G, pos, node_size=400, node_color=\"lightblue\", ax=axs[0])\n",
    "    nx.draw_networkx_labels(G, pos, ax=axs[0])\n",
    "    nx.draw_networkx_edges(G, pos, edgelist=edges, edge_color=edge_colors, width=2, arrows=True, ax=axs[0])\n",
    "    sm_hist = plt.cm.ScalarMappable(cmap=cmap, norm=norm)\n",
    "    sm_hist.set_array([])\n",
    "    plt.colorbar(sm_hist, ax=axs[0], shrink=0.8).set_label(\"Demand\")\n",
    "    axs[0].set_title(f\"Historical Demand - Timestep {t} ({start_minute}–{end_minute})\")\n",
    "    axs[0].axis(\"off\")\n",
    "\n",
    "    # Sampled demand\n",
    "    G_sampled.clear()\n",
    "    G_sampled.add_nodes_from(all_nodes)\n",
    "    G_sampled.add_edges_from(edges_sampled)\n",
    "    nx.draw_networkx_nodes(G_sampled, pos, node_size=400, node_color=\"lightblue\", ax=axs[1])\n",
    "    nx.draw_networkx_labels(G_sampled, pos, ax=axs[1])\n",
    "    nx.draw_networkx_edges(G_sampled, pos, edgelist=edges_sampled, edge_color=edge_colors_sampled, width=2, arrows=True, ax=axs[1])\n",
    "    sm_sampled = plt.cm.ScalarMappable(cmap=cmap, norm=norm_sampled)\n",
    "    sm_sampled.set_array([])\n",
    "    plt.colorbar(sm_sampled, ax=axs[1], shrink=0.8).set_label(\"Demand\")\n",
    "    axs[1].set_title(f\"Sampled Demand - Timestep {t} (minute {start_minute})\")\n",
    "    axs[1].axis(\"off\")\n",
    "\n",
    "    for node, count in vehicle_counts.items():\n",
    "        if count > 0:\n",
    "            axs[1].text(\n",
    "                pos[node][0] + 0.15,\n",
    "                pos[node][1] + 0.15,\n",
    "                f\"{int(count)}\",\n",
    "                fontsize=12,\n",
    "                bbox=dict(boxstyle=\"round,pad=0.5\", fc=\"yellow\", alpha=0.6),\n",
    "                ha='center'\n",
    "            )\n",
    "\n",
    "    vehicle_patch = mpatches.Patch(facecolor='yellow', edgecolor='black', alpha=0.6, label='Vehicle Count')\n",
    "    axs[1].legend(handles=[vehicle_patch], loc='lower right', fontsize=12)\n",
    "\n",
    "    plt.tight_layout()\n",
    "    plt.show()\n"
   ]
  },
  {
   "cell_type": "code",
   "execution_count": null,
   "metadata": {},
   "outputs": [],
   "source": [
    "%load_ext autoreload\n",
    "%autoreload 2\n",
    "import sys\n",
    "if 'testing' in sys.modules:\n",
    "    del sys.modules['testing']\n",
    "\n",
    "import testing\n",
    "importlib.reload(testing)\n",
    "config = {\n",
    "    \"simulator.name\": \"multi_macro\",\n",
    "    \"model.name\": [\"sac\", \"equal_distribution\", \"random\"],\n",
    "    \"simulator.city\": \"nyc_brooklyn\", \n",
    "    \"model.cplexpath\": None, \n",
    "    \"model.test_episodes\": 10,\n",
    "    \"model.checkpoint_path\": \"SAC_flow_2\",\n",
    "    \"simulator.reuse_no_control\": False,\n",
    "    \"simulator.firm_count\": 2,\n",
    "    \"simulator.agents_know_partial_demand\": True,\n",
    "    \"simulator.constant_vehicle_count\": True,\n",
    "    \"simulator.demand_filter_type\": \"flow\" \n",
    "}\n",
    "testing.multi_test(config)"
   ]
  },
  {
   "cell_type": "markdown",
   "metadata": {},
   "source": [
    "### Additional: SUMO Environment"
   ]
  },
  {
   "cell_type": "markdown",
   "metadata": {},
   "source": [
    "The SUMO environment is built around a mesoscopic traffic simulator using the Simulation of Urban MObility (SUMO) framework. The available scenario is based on the city of Luxembourg, utilizing the LuST Scenario (https://github.com/lcodeca/lux), where the traffic demand has been derived from a calibrated trips file. To create a more simplified and abstract representation of the city, the road network has been spatially aggregated into 10 regions, resulting in a coarser graph of the urban landscape."
   ]
  },
  {
   "cell_type": "markdown",
   "metadata": {},
   "source": [
    "<img src=\"figures/lux_net.png\" alt=\"drawing\" width=\"500\"/>    <img src=\"figures/lux_net_aggregated.png\" alt=\"drawing\" width=\"500\"/>"
   ]
  },
  {
   "cell_type": "code",
   "execution_count": null,
   "metadata": {},
   "outputs": [],
   "source": [
    "config = {\n",
    "\"simulator.name\": \"sumo\",\n",
    "\"model.name\": \"mpc\",\n",
    "\"simulator.city\": \"lux\",\n",
    "\"model.cplexpath\": None, \n",
    "\"model.test_episodes\": 1,\n",
    "}\n",
    "test(config)\n"
   ]
  }
 ],
 "metadata": {
  "kernelspec": {
   "display_name": "droute",
   "language": "python",
   "name": "python3"
  },
  "language_info": {
   "codemirror_mode": {
    "name": "ipython",
    "version": 3
   },
   "file_extension": ".py",
   "mimetype": "text/x-python",
   "name": "python",
   "nbconvert_exporter": "python",
   "pygments_lexer": "ipython3",
   "version": "3.11.11"
  }
 },
 "nbformat": 4,
 "nbformat_minor": 2
}
